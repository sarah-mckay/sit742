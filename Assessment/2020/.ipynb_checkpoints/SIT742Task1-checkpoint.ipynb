{
 "cells": [
  {
   "cell_type": "markdown",
   "metadata": {
    "colab_type": "text",
    "id": "EMX0qNbHot1x"
   },
   "source": [
    "# SIT742: Modern Data Science \n",
    "**(2020 Assessment Task 01: Exploration for Data Scientists Survey Data)**\n",
    "\n",
    "---\n",
    "- Materials in this module include resources collected from various open-source online repositories.\n",
    "- You are free to use, change and distribute this package.\n",
    "\n",
    "Prepared by **SIT742 Teaching Team**\n",
    "\n",
    "\n",
    "---\n",
    "\n",
    "<div class=\"alert alert-block alert-info\">\n",
    "Enter your information in the following cell. Please make sure you fill your Student ID and Name correctly.  \n",
    "</div>\n",
    "\n",
    "**Student Information:** Please fill your information below\n",
    "\n",
    "- Name:  \n",
    "- Student ID:  \n",
    "- Email:  \n",
    "- Lab Session and Tutor (for on campus students): \n",
    "\n",
    "---"
   ]
  },
  {
   "cell_type": "markdown",
   "metadata": {
    "colab_type": "text",
    "id": "cHdQMSVzJyip"
   },
   "source": [
    "## Overview\n",
    "\n",
    "In 2017, [Kaggle](https://www.kaggle.com) (a data science community and competition platform) conducted a survey on a large range of users registered as the data scientist in their platform. The survey data are broadly covered the skill set of the data scientists, the demographic of the data scientists, the feedback of the platform and many other information. \n",
    "\n",
    "In this task, you will need to \n",
    "\n",
    "- **Part 1**: Given the following two data sets, you are required to finish some required analysis, with the exploreation data analytics skills as well as visuilization skills\n",
    "     - [MCQResponses.csv](https://github.com/tulip-lab/sit742/raw/master/Assessment/2020/data/MCQResponses.csv): Participants' answers to multiple choice questions. Each column contains the answers of one respondent to a specific question.     \n",
    "     - [ConversionRates.csv](https://github.com/tulip-lab/sit742/raw/master/Assessment/2020/data/ConversionRates.csv): Currency conversion rates to USD. \n",
    "- **Part 2**: Given the following data set, you are required to find out top keywords for hiring the data scientists. \n",
    "    - [JobPostings.csv](https://github.com/tulip-lab/sit742/raw/master/Assessment/2020/data/JobPostings.csv): Data scientists job advertising in US with job descriptions, from JobPikr.\n",
    "\n",
    "\n",
    "You will be required to complete the coding to answer the questions with a neat and clean format, and your commenting and adherence to code standards will also be considered when marking. Further information on Python standards, please visit https://www.python.org/dev/peps/pep-0008/ \n",
    "\n",
    "\n",
    "**Note**: You are not necessary to stick to the partial code provided, and you can write your own code to implement the required tasks. But you should provide sufficient comments.\n"
   ]
  },
  {
   "cell_type": "markdown",
   "metadata": {
    "colab_type": "text",
    "id": "0d3FjO8fJyir"
   },
   "source": [
    "## Part 1 - What we could know about the Data Scientists? "
   ]
  },
  {
   "cell_type": "markdown",
   "metadata": {
    "_cell_guid": "06c9b38b-000e-4b8a-95f0-65a93bb332f2",
    "_uuid": "2bfa8ca86a226c9900a67a02236a072274bc0d18",
    "colab_type": "text",
    "id": "NuDhBkqaot17"
   },
   "source": [
    "### 1.0. Libraries and data files\n",
    "<a id=\"Load data\"></a>\n",
    "***\n"
   ]
  },
  {
   "cell_type": "code",
   "execution_count": 3,
   "metadata": {
    "colab": {
     "base_uri": "https://localhost:8080/",
     "height": 193
    },
    "colab_type": "code",
    "id": "Tzx_NMcsJyiv",
    "outputId": "54746ab0-75bc-466d-826b-41766256eaf7"
   },
   "outputs": [
    {
     "name": "stdout",
     "output_type": "stream",
     "text": [
      "Requirement already satisfied: wget in /Users/sarahmckay/anaconda3/lib/python3.6/site-packages (3.2)\r\n"
     ]
    }
   ],
   "source": [
    "!pip install wget"
   ]
  },
  {
   "cell_type": "code",
   "execution_count": 4,
   "metadata": {
    "_cell_guid": "bf6d21b3-22d5-48e4-8a62-a50ef36bae42",
    "_kg_hide-input": true,
    "_kg_hide-output": false,
    "_uuid": "76567470049e7d7e878b76d72e81858f56bdbd2a",
    "colab": {},
    "colab_type": "code",
    "id": "7AVjZqvmot2A",
    "scrolled": true
   },
   "outputs": [],
   "source": [
    "import numpy as np\n",
    "import matplotlib.pyplot as plt\n",
    "import pandas as pd\n",
    "from pandas import datetime\n",
    "import wget\n",
    "import seaborn as sns\n",
    "sns.set(style=\"whitegrid\")"
   ]
  },
  {
   "cell_type": "code",
   "execution_count": 5,
   "metadata": {
    "_cell_guid": "bf6d21b3-22d5-48e4-8a62-a50ef36bae42",
    "_kg_hide-input": true,
    "_kg_hide-output": false,
    "_uuid": "76567470049e7d7e878b76d72e81858f56bdbd2a",
    "colab": {},
    "colab_type": "code",
    "id": "7AVjZqvmot2A",
    "scrolled": true
   },
   "outputs": [],
   "source": [
    "link_to_data = 'https://github.com/tulip-lab/sit742/raw/master/Assessment/2020/data/MCQResponses.csv'\n",
    "DataSet = wget.download(link_to_data)\n",
    "\n",
    "link_to_data = 'https://github.com/tulip-lab/sit742/raw/master/Assessment/2020/data/ConversionRates.csv'\n",
    "ConvDataSet = wget.download(link_to_data)\n",
    "\n",
    "link_to_data = 'https://github.com/tulip-lab/sit742/raw/master/Assessment/2020/data/JobPostings.csv'\n",
    "JobDataSet = wget.download(link_to_data)"
   ]
  },
  {
   "cell_type": "markdown",
   "metadata": {
    "colab_type": "text",
    "id": "xt84oidr-jof"
   },
   "source": [
    " <div class=\"alert alert-block alert-info\">\n",
    "\n",
    "**Code**: \n",
    "    You are required to load MCQResponses.csv into dataframe df_demog, and check the data statistics and general infommation by printing its top 5 rows.\n",
    "</div>"
   ]
  },
  {
   "cell_type": "code",
   "execution_count": 43,
   "metadata": {
    "colab": {
     "base_uri": "https://localhost:8080/",
     "height": 395
    },
    "colab_type": "code",
    "id": "Xl5VV8v4ot2N",
    "outputId": "34fb6c39-5e20-45a5-9b25-64ca4481296d"
   },
   "outputs": [
    {
     "data": {
      "text/html": [
       "<div>\n",
       "<style scoped>\n",
       "    .dataframe tbody tr th:only-of-type {\n",
       "        vertical-align: middle;\n",
       "    }\n",
       "\n",
       "    .dataframe tbody tr th {\n",
       "        vertical-align: top;\n",
       "    }\n",
       "\n",
       "    .dataframe thead th {\n",
       "        text-align: right;\n",
       "    }\n",
       "</style>\n",
       "<table border=\"1\" class=\"dataframe\">\n",
       "  <thead>\n",
       "    <tr style=\"text-align: right;\">\n",
       "      <th></th>\n",
       "      <th>Age</th>\n",
       "      <th>CompensationAmount</th>\n",
       "    </tr>\n",
       "  </thead>\n",
       "  <tbody>\n",
       "    <tr>\n",
       "      <th>count</th>\n",
       "      <td>4327.000000</td>\n",
       "      <td>4.327000e+03</td>\n",
       "    </tr>\n",
       "    <tr>\n",
       "      <th>mean</th>\n",
       "      <td>34.129651</td>\n",
       "      <td>2.891714e+06</td>\n",
       "    </tr>\n",
       "    <tr>\n",
       "      <th>std</th>\n",
       "      <td>9.476011</td>\n",
       "      <td>2.946122e+07</td>\n",
       "    </tr>\n",
       "    <tr>\n",
       "      <th>min</th>\n",
       "      <td>0.000000</td>\n",
       "      <td>1.090000e+01</td>\n",
       "    </tr>\n",
       "    <tr>\n",
       "      <th>25%</th>\n",
       "      <td>27.000000</td>\n",
       "      <td>5.000000e+04</td>\n",
       "    </tr>\n",
       "    <tr>\n",
       "      <th>50%</th>\n",
       "      <td>32.000000</td>\n",
       "      <td>1.000000e+05</td>\n",
       "    </tr>\n",
       "    <tr>\n",
       "      <th>75%</th>\n",
       "      <td>39.000000</td>\n",
       "      <td>2.200000e+05</td>\n",
       "    </tr>\n",
       "    <tr>\n",
       "      <th>max</th>\n",
       "      <td>99.000000</td>\n",
       "      <td>8.000000e+08</td>\n",
       "    </tr>\n",
       "  </tbody>\n",
       "</table>\n",
       "</div>"
      ],
      "text/plain": [
       "               Age  CompensationAmount\n",
       "count  4327.000000        4.327000e+03\n",
       "mean     34.129651        2.891714e+06\n",
       "std       9.476011        2.946122e+07\n",
       "min       0.000000        1.090000e+01\n",
       "25%      27.000000        5.000000e+04\n",
       "50%      32.000000        1.000000e+05\n",
       "75%      39.000000        2.200000e+05\n",
       "max      99.000000        8.000000e+08"
      ]
     },
     "execution_count": 43,
     "metadata": {},
     "output_type": "execute_result"
    }
   ],
   "source": [
    "# Your code\n",
    "from pandas import Series, DataFrame\n",
    "\n",
    "link_to_data = 'https://github.com/tulip-lab/sit742/raw/master/Assessment/2020/data/MCQResponses.csv'\n",
    "DataSet = wget.download(link_to_data)\n",
    "\n",
    "df_demog =  pd.read_csv(DataSet)\n",
    "df_demog.describe()"
   ]
  },
  {
   "cell_type": "code",
   "execution_count": 44,
   "metadata": {
    "colab": {
     "base_uri": "https://localhost:8080/",
     "height": 329
    },
    "colab_type": "code",
    "id": "AXyiiOEGot2a",
    "outputId": "7642a05c-2e78-4d78-8af5-5e7396e3169e"
   },
   "outputs": [
    {
     "data": {
      "text/html": [
       "<div>\n",
       "<style scoped>\n",
       "    .dataframe tbody tr th:only-of-type {\n",
       "        vertical-align: middle;\n",
       "    }\n",
       "\n",
       "    .dataframe tbody tr th {\n",
       "        vertical-align: top;\n",
       "    }\n",
       "\n",
       "    .dataframe thead th {\n",
       "        text-align: right;\n",
       "    }\n",
       "</style>\n",
       "<table border=\"1\" class=\"dataframe\">\n",
       "  <thead>\n",
       "    <tr style=\"text-align: right;\">\n",
       "      <th></th>\n",
       "      <th>GenderSelect</th>\n",
       "      <th>Country</th>\n",
       "      <th>Age</th>\n",
       "      <th>EmploymentStatus</th>\n",
       "      <th>CodeWriter</th>\n",
       "      <th>CurrentJobTitleSelect</th>\n",
       "      <th>TitleFit</th>\n",
       "      <th>CurrentEmployerType</th>\n",
       "      <th>MLToolNextYearSelect</th>\n",
       "      <th>MLMethodNextYearSelect</th>\n",
       "      <th>LanguageRecommendationSelect</th>\n",
       "      <th>FormalEducation</th>\n",
       "      <th>MajorSelect</th>\n",
       "      <th>FirstTrainingSelect</th>\n",
       "      <th>CompensationAmount</th>\n",
       "      <th>CompensationCurrency</th>\n",
       "      <th>JobSatisfaction</th>\n",
       "    </tr>\n",
       "  </thead>\n",
       "  <tbody>\n",
       "    <tr>\n",
       "      <th>0</th>\n",
       "      <td>Male</td>\n",
       "      <td>United States</td>\n",
       "      <td>56</td>\n",
       "      <td>Independent contractor, freelancer, or self-em...</td>\n",
       "      <td>Yes</td>\n",
       "      <td>Operations Research Practitioner</td>\n",
       "      <td>Poorly</td>\n",
       "      <td>Self-employed</td>\n",
       "      <td>TensorFlow</td>\n",
       "      <td>Neural Nets</td>\n",
       "      <td>Python</td>\n",
       "      <td>Master's degree</td>\n",
       "      <td>Mathematics or statistics</td>\n",
       "      <td>University courses</td>\n",
       "      <td>250000.0</td>\n",
       "      <td>USD</td>\n",
       "      <td>10 - Highly Satisfied</td>\n",
       "    </tr>\n",
       "    <tr>\n",
       "      <th>1</th>\n",
       "      <td>Female</td>\n",
       "      <td>Australia</td>\n",
       "      <td>43</td>\n",
       "      <td>Employed full-time</td>\n",
       "      <td>Yes</td>\n",
       "      <td>Business Analyst</td>\n",
       "      <td>Fine</td>\n",
       "      <td>Employed by non-profit or NGO</td>\n",
       "      <td>Microsoft Excel Data Mining</td>\n",
       "      <td>Link Analysis</td>\n",
       "      <td>Python</td>\n",
       "      <td>Bachelor's degree</td>\n",
       "      <td>NaN</td>\n",
       "      <td>Work</td>\n",
       "      <td>80000.0</td>\n",
       "      <td>AUD</td>\n",
       "      <td>7</td>\n",
       "    </tr>\n",
       "    <tr>\n",
       "      <th>2</th>\n",
       "      <td>Male</td>\n",
       "      <td>Russia</td>\n",
       "      <td>33</td>\n",
       "      <td>Employed full-time</td>\n",
       "      <td>Yes</td>\n",
       "      <td>Software Developer/Software Engineer</td>\n",
       "      <td>Fine</td>\n",
       "      <td>Employed by a company that doesn't perform adv...</td>\n",
       "      <td>C/C++</td>\n",
       "      <td>Deep learning</td>\n",
       "      <td>Python</td>\n",
       "      <td>Bachelor's degree</td>\n",
       "      <td>Other</td>\n",
       "      <td>Self-taught</td>\n",
       "      <td>1200000.0</td>\n",
       "      <td>RUB</td>\n",
       "      <td>7</td>\n",
       "    </tr>\n",
       "    <tr>\n",
       "      <th>3</th>\n",
       "      <td>Male</td>\n",
       "      <td>India</td>\n",
       "      <td>27</td>\n",
       "      <td>Employed full-time</td>\n",
       "      <td>Yes</td>\n",
       "      <td>Data Scientist</td>\n",
       "      <td>Fine</td>\n",
       "      <td>Employed by professional services/consulting f...</td>\n",
       "      <td>Other</td>\n",
       "      <td>Deep learning</td>\n",
       "      <td>Python</td>\n",
       "      <td>Bachelor's degree</td>\n",
       "      <td>Electrical Engineering</td>\n",
       "      <td>University courses</td>\n",
       "      <td>95000.0</td>\n",
       "      <td>INR</td>\n",
       "      <td>7</td>\n",
       "    </tr>\n",
       "    <tr>\n",
       "      <th>4</th>\n",
       "      <td>Male</td>\n",
       "      <td>Taiwan</td>\n",
       "      <td>26</td>\n",
       "      <td>Employed full-time</td>\n",
       "      <td>Yes</td>\n",
       "      <td>Software Developer/Software Engineer</td>\n",
       "      <td>Fine</td>\n",
       "      <td>Employed by professional services/consulting firm</td>\n",
       "      <td>TensorFlow</td>\n",
       "      <td>Deep learning</td>\n",
       "      <td>Python</td>\n",
       "      <td>Master's degree</td>\n",
       "      <td>Computer Science</td>\n",
       "      <td>Online courses (coursera, udemy, edx, etc.)</td>\n",
       "      <td>1100000.0</td>\n",
       "      <td>TWD</td>\n",
       "      <td>5</td>\n",
       "    </tr>\n",
       "  </tbody>\n",
       "</table>\n",
       "</div>"
      ],
      "text/plain": [
       "  GenderSelect        Country  Age  \\\n",
       "0         Male  United States   56   \n",
       "1       Female      Australia   43   \n",
       "2         Male         Russia   33   \n",
       "3         Male          India   27   \n",
       "4         Male         Taiwan   26   \n",
       "\n",
       "                                    EmploymentStatus CodeWriter  \\\n",
       "0  Independent contractor, freelancer, or self-em...        Yes   \n",
       "1                                 Employed full-time        Yes   \n",
       "2                                 Employed full-time        Yes   \n",
       "3                                 Employed full-time        Yes   \n",
       "4                                 Employed full-time        Yes   \n",
       "\n",
       "                  CurrentJobTitleSelect TitleFit  \\\n",
       "0      Operations Research Practitioner   Poorly   \n",
       "1                      Business Analyst     Fine   \n",
       "2  Software Developer/Software Engineer     Fine   \n",
       "3                        Data Scientist     Fine   \n",
       "4  Software Developer/Software Engineer     Fine   \n",
       "\n",
       "                                 CurrentEmployerType  \\\n",
       "0                                      Self-employed   \n",
       "1                      Employed by non-profit or NGO   \n",
       "2  Employed by a company that doesn't perform adv...   \n",
       "3  Employed by professional services/consulting f...   \n",
       "4  Employed by professional services/consulting firm   \n",
       "\n",
       "          MLToolNextYearSelect MLMethodNextYearSelect  \\\n",
       "0                   TensorFlow            Neural Nets   \n",
       "1  Microsoft Excel Data Mining          Link Analysis   \n",
       "2                        C/C++          Deep learning   \n",
       "3                        Other          Deep learning   \n",
       "4                   TensorFlow          Deep learning   \n",
       "\n",
       "  LanguageRecommendationSelect    FormalEducation                MajorSelect  \\\n",
       "0                       Python    Master's degree  Mathematics or statistics   \n",
       "1                       Python  Bachelor's degree                        NaN   \n",
       "2                       Python  Bachelor's degree                      Other   \n",
       "3                       Python  Bachelor's degree     Electrical Engineering   \n",
       "4                       Python    Master's degree           Computer Science   \n",
       "\n",
       "                           FirstTrainingSelect  CompensationAmount  \\\n",
       "0                           University courses            250000.0   \n",
       "1                                         Work             80000.0   \n",
       "2                                  Self-taught           1200000.0   \n",
       "3                           University courses             95000.0   \n",
       "4  Online courses (coursera, udemy, edx, etc.)           1100000.0   \n",
       "\n",
       "  CompensationCurrency        JobSatisfaction  \n",
       "0                  USD  10 - Highly Satisfied  \n",
       "1                  AUD                      7  \n",
       "2                  RUB                      7  \n",
       "3                  INR                      7  \n",
       "4                  TWD                      5  "
      ]
     },
     "execution_count": 44,
     "metadata": {},
     "output_type": "execute_result"
    }
   ],
   "source": [
    "# Your Code\n",
    "df_demog.head()\n"
   ]
  },
  {
   "cell_type": "markdown",
   "metadata": {
    "colab_type": "text",
    "id": "7gclqLjREEe7"
   },
   "source": [
    "<div class=\"alert alert-block alert-info\">\n",
    "\n",
    "**Code**: \n",
    "    Check which columns have NAs (don't remove them now), and for each of those columns, display how many records with values\n",
    "\n",
    "\n",
    "<div class=\"alert alert-block alert-warning\">\n",
    "    \n",
    "**Report**: \n",
    "    **1.0.A** Please include your result for this coding task into your report, with proper section title '1.0.A'.\n",
    "</div>\n",
    "    </div>\n",
    "\n",
    "\n"
   ]
  },
  {
   "cell_type": "code",
   "execution_count": 45,
   "metadata": {
    "colab": {
     "base_uri": "https://localhost:8080/",
     "height": 156
    },
    "colab_type": "code",
    "id": "jk5oshZLot2U",
    "outputId": "d600a287-7465-48f8-8d22-c8b56cf7fb61"
   },
   "outputs": [
    {
     "data": {
      "text/html": [
       "<div>\n",
       "<style scoped>\n",
       "    .dataframe tbody tr th:only-of-type {\n",
       "        vertical-align: middle;\n",
       "    }\n",
       "\n",
       "    .dataframe tbody tr th {\n",
       "        vertical-align: top;\n",
       "    }\n",
       "\n",
       "    .dataframe thead th {\n",
       "        text-align: right;\n",
       "    }\n",
       "</style>\n",
       "<table border=\"1\" class=\"dataframe\">\n",
       "  <thead>\n",
       "    <tr style=\"text-align: right;\">\n",
       "      <th></th>\n",
       "      <th>0</th>\n",
       "      <th>1</th>\n",
       "    </tr>\n",
       "  </thead>\n",
       "  <tbody>\n",
       "    <tr>\n",
       "      <th>GenderSelect</th>\n",
       "      <td>0</td>\n",
       "      <td>4327</td>\n",
       "    </tr>\n",
       "    <tr>\n",
       "      <th>Country</th>\n",
       "      <td>0</td>\n",
       "      <td>4327</td>\n",
       "    </tr>\n",
       "    <tr>\n",
       "      <th>Age</th>\n",
       "      <td>0</td>\n",
       "      <td>4327</td>\n",
       "    </tr>\n",
       "    <tr>\n",
       "      <th>EmploymentStatus</th>\n",
       "      <td>0</td>\n",
       "      <td>4327</td>\n",
       "    </tr>\n",
       "    <tr>\n",
       "      <th>CodeWriter</th>\n",
       "      <td>0</td>\n",
       "      <td>4327</td>\n",
       "    </tr>\n",
       "    <tr>\n",
       "      <th>CurrentJobTitleSelect</th>\n",
       "      <td>0</td>\n",
       "      <td>4327</td>\n",
       "    </tr>\n",
       "    <tr>\n",
       "      <th>TitleFit</th>\n",
       "      <td>76</td>\n",
       "      <td>4251</td>\n",
       "    </tr>\n",
       "    <tr>\n",
       "      <th>CurrentEmployerType</th>\n",
       "      <td>52</td>\n",
       "      <td>4275</td>\n",
       "    </tr>\n",
       "    <tr>\n",
       "      <th>MLToolNextYearSelect</th>\n",
       "      <td>121</td>\n",
       "      <td>4206</td>\n",
       "    </tr>\n",
       "    <tr>\n",
       "      <th>MLMethodNextYearSelect</th>\n",
       "      <td>157</td>\n",
       "      <td>4170</td>\n",
       "    </tr>\n",
       "    <tr>\n",
       "      <th>LanguageRecommendationSelect</th>\n",
       "      <td>99</td>\n",
       "      <td>4228</td>\n",
       "    </tr>\n",
       "    <tr>\n",
       "      <th>FormalEducation</th>\n",
       "      <td>0</td>\n",
       "      <td>4327</td>\n",
       "    </tr>\n",
       "    <tr>\n",
       "      <th>MajorSelect</th>\n",
       "      <td>375</td>\n",
       "      <td>3952</td>\n",
       "    </tr>\n",
       "    <tr>\n",
       "      <th>FirstTrainingSelect</th>\n",
       "      <td>3</td>\n",
       "      <td>4324</td>\n",
       "    </tr>\n",
       "    <tr>\n",
       "      <th>CompensationAmount</th>\n",
       "      <td>0</td>\n",
       "      <td>4327</td>\n",
       "    </tr>\n",
       "    <tr>\n",
       "      <th>CompensationCurrency</th>\n",
       "      <td>0</td>\n",
       "      <td>4327</td>\n",
       "    </tr>\n",
       "    <tr>\n",
       "      <th>JobSatisfaction</th>\n",
       "      <td>10</td>\n",
       "      <td>4317</td>\n",
       "    </tr>\n",
       "  </tbody>\n",
       "</table>\n",
       "</div>"
      ],
      "text/plain": [
       "                                0     1\n",
       "GenderSelect                    0  4327\n",
       "Country                         0  4327\n",
       "Age                             0  4327\n",
       "EmploymentStatus                0  4327\n",
       "CodeWriter                      0  4327\n",
       "CurrentJobTitleSelect           0  4327\n",
       "TitleFit                       76  4251\n",
       "CurrentEmployerType            52  4275\n",
       "MLToolNextYearSelect          121  4206\n",
       "MLMethodNextYearSelect        157  4170\n",
       "LanguageRecommendationSelect   99  4228\n",
       "FormalEducation                 0  4327\n",
       "MajorSelect                   375  3952\n",
       "FirstTrainingSelect             3  4324\n",
       "CompensationAmount              0  4327\n",
       "CompensationCurrency            0  4327\n",
       "JobSatisfaction                10  4317"
      ]
     },
     "execution_count": 45,
     "metadata": {},
     "output_type": "execute_result"
    }
   ],
   "source": [
    "# Your Code\n",
    "#this code counts the number of NULL and non-null values in each column\n",
    "nullSum = pd.DataFrame( [df_demog.isnull().sum(),df_demog.notnull().sum()])\n",
    "#this transposes the data to present better in the word document and outputs the data to a csv for easy copy paste\n",
    "#nullSum.transpose().to_csv('demog_null_sum.csv')\n",
    "nullSum.transpose()\n",
    "\n"
   ]
  },
  {
   "cell_type": "code",
   "execution_count": 46,
   "metadata": {},
   "outputs": [
    {
     "data": {
      "text/plain": [
       "GenderSelect                    4327\n",
       "Country                         4327\n",
       "Age                             4327\n",
       "EmploymentStatus                4327\n",
       "CodeWriter                      4327\n",
       "CurrentJobTitleSelect           4327\n",
       "TitleFit                        4251\n",
       "CurrentEmployerType             4275\n",
       "MLToolNextYearSelect            4206\n",
       "MLMethodNextYearSelect          4170\n",
       "LanguageRecommendationSelect    4228\n",
       "FormalEducation                 4327\n",
       "MajorSelect                     3952\n",
       "FirstTrainingSelect             4324\n",
       "CompensationAmount              4327\n",
       "CompensationCurrency            4327\n",
       "JobSatisfaction                 4317\n",
       "dtype: int64"
      ]
     },
     "execution_count": 46,
     "metadata": {},
     "output_type": "execute_result"
    }
   ],
   "source": [
    "df_demog.notnull().sum()\n",
    "#this code counts how many fields are not null in each column\n"
   ]
  },
  {
   "cell_type": "markdown",
   "metadata": {
    "colab_type": "text",
    "id": "MclqalahEVm-"
   },
   "source": [
    "<div class=\"alert alert-block alert-info\">\n",
    "\n",
    "**Code**: \n",
    "    Select the users whose current job title is 'Data Scientist', and store into variable df_demog_ds    \n",
    "\n",
    "<div class=\"alert alert-block alert-warning\">\n",
    "    \n",
    "**Report**: \n",
    "    **1.0.B** Please include your result of `how many Data Scientists?' into your report, with proper section title  '1.0.B'.\n",
    "</div>\n",
    "</div>\n",
    "\n",
    "\n"
   ]
  },
  {
   "cell_type": "code",
   "execution_count": 48,
   "metadata": {
    "colab": {
     "base_uri": "https://localhost:8080/",
     "height": 312
    },
    "colab_type": "code",
    "id": "sjdZZOc8ot2g",
    "outputId": "240ce3ed-46ea-4d85-e0c9-91cfd043e5da"
   },
   "outputs": [
    {
     "name": "stdout",
     "output_type": "stream",
     "text": [
      "The number of data scientists in the data set is:1263\n"
     ]
    }
   ],
   "source": [
    "# Your code\n",
    "#store the rows where the job title is Data Scientist\n",
    "df_demog_ds = df_demog.loc[df_demog['CurrentJobTitleSelect']==\"Data Scientist\"]\n",
    "#count the number of data scientists\n",
    "numberOfDs = df_demog_ds.CurrentJobTitleSelect.count()\n",
    "print('The number of data scientists in the data set is: {}'.format(numberOfDs))"
   ]
  },
  {
   "cell_type": "markdown",
   "metadata": {
    "_cell_guid": "3e161447-2816-45ec-872f-3a20da79c042",
    "_uuid": "d6bdc03f0c63a08754efc13378661dc986d2bcb8",
    "colab_type": "text",
    "id": "iuhutBLOot5O"
   },
   "source": [
    "### 1.1. Education\n",
    "<a id=\"education\"></a>\n",
    "***\n",
    "In data scientists job, education is important. Is it reasonable to ask data scientists to have a Master's or Doctoral degree? Let's find out. \n"
   ]
  },
  {
   "cell_type": "markdown",
   "metadata": {
    "colab_type": "text",
    "id": "yHyeeZvDot5Q"
   },
   "source": [
    "<div class=\"alert alert-block alert-info\">\n",
    "\n",
    "**Code**: \n",
    "    Plot and display as text output the number and percentage of data scientist with each type of formal education. \n",
    "\n",
    "<div class=\"alert alert-block alert-warning\">\n",
    "    \n",
    "**Report**: \n",
    "    **1.1.A** Please include your running result of this coding task into your report, with proper section title  '1.1.A'.\n",
    "</div>\n",
    "\n",
    "</div>"
   ]
  },
  {
   "cell_type": "code",
   "execution_count": 49,
   "metadata": {
    "colab": {
     "base_uri": "https://localhost:8080/",
     "height": 139
    },
    "colab_type": "code",
    "id": "lRXfdfvgot5S",
    "outputId": "0e75e2b5-4e61-4e9c-cb70-141484e5fd45"
   },
   "outputs": [
    {
     "data": {
      "text/plain": [
       "<matplotlib.axes._subplots.AxesSubplot at 0x1a25dd2fd0>"
      ]
     },
     "execution_count": 49,
     "metadata": {},
     "output_type": "execute_result"
    },
    {
     "data": {
      "image/png": "[encoded data removed]",
      "text/plain": [
       "<Figure size 432x288 with 1 Axes>"
      ]
     },
     "metadata": {},
     "output_type": "display_data"
    },
    {
     "data": {
      "image/png": "[encoded data removed]",
      "text/plain": [
       "<Figure size 432x288 with 1 Axes>"
      ]
     },
     "metadata": {},
     "output_type": "display_data"
    }
   ],
   "source": [
    "# count bar plot\n",
    "df_demog_ds_edu = df_demog_ds.groupby('FormalEducation').count()[['CurrentJobTitleSelect']]\n",
    "df_demog_ds_edu.plot.barh(title=\"Count of Education Type for Data Scientists\")\n",
    "# percentage bar plot\n",
    "df_demog_ds_edu_perc = df_demog_ds.groupby('FormalEducation').count()[['CurrentJobTitleSelect']]/df_demog_ds.count()[['CurrentJobTitleSelect']]\n",
    "df_demog_ds_edu_perc.plot.barh(title=\"Precentage of Education Type for Data Scientists\")"
   ]
  },
  {
   "cell_type": "markdown",
   "metadata": {
    "_cell_guid": "551f7dba-71d3-4f77-8852-fce4f789d644",
    "_uuid": "31449fb18bfea68bb723b010b78dcab6c8fe5439",
    "colab_type": "text",
    "id": "K-yMEEFLot7P"
   },
   "source": [
    "### 1.2. Salary\n",
    "<a id=\"salary\"></a>\n",
    "\n",
    "Data science is considered a very well paying role, let's find out the salary information. Since all of the respondents did not come from one country, we can assume that they gave their salaries in their countries currency. We have filtered the data for you and provided exchange rates in a file called *ConversionRates.csv* which should already be imported. \n",
    "\n",
    "First of all, you need to merge the multiple choice data with the *ConversionRates.csv* by using the compensation currency and originCountry respectively. And then you will need to multiply the compensation amount with exchangeRateAUS to have the Australian dollors."
   ]
  },
  {
   "cell_type": "code",
   "execution_count": 56,
   "metadata": {
    "colab": {
     "base_uri": "https://localhost:8080/",
     "height": 202
    },
    "colab_type": "code",
    "id": "BZaQ7vykot7U",
    "outputId": "14523a49-5dec-454a-9704-328c60b7a173"
   },
   "outputs": [
    {
     "data": {
      "text/html": [
       "<div>\n",
       "<style scoped>\n",
       "    .dataframe tbody tr th:only-of-type {\n",
       "        vertical-align: middle;\n",
       "    }\n",
       "\n",
       "    .dataframe tbody tr th {\n",
       "        vertical-align: top;\n",
       "    }\n",
       "\n",
       "    .dataframe thead th {\n",
       "        text-align: right;\n",
       "    }\n",
       "</style>\n",
       "<table border=\"1\" class=\"dataframe\">\n",
       "  <thead>\n",
       "    <tr style=\"text-align: right;\">\n",
       "      <th></th>\n",
       "      <th>GenderSelect</th>\n",
       "      <th>Country</th>\n",
       "      <th>Age</th>\n",
       "      <th>EmploymentStatus</th>\n",
       "      <th>CodeWriter</th>\n",
       "      <th>CurrentJobTitleSelect</th>\n",
       "      <th>TitleFit</th>\n",
       "      <th>CurrentEmployerType</th>\n",
       "      <th>MLToolNextYearSelect</th>\n",
       "      <th>MLMethodNextYearSelect</th>\n",
       "      <th>...</th>\n",
       "      <th>FormalEducation</th>\n",
       "      <th>MajorSelect</th>\n",
       "      <th>FirstTrainingSelect</th>\n",
       "      <th>CompensationAmount</th>\n",
       "      <th>CompensationCurrency</th>\n",
       "      <th>JobSatisfaction</th>\n",
       "      <th>Unnamed: 0</th>\n",
       "      <th>originCountry</th>\n",
       "      <th>exchangeRate</th>\n",
       "      <th>exchangeRateAUS</th>\n",
       "    </tr>\n",
       "  </thead>\n",
       "  <tbody>\n",
       "    <tr>\n",
       "      <th>1118</th>\n",
       "      <td>Male</td>\n",
       "      <td>United States</td>\n",
       "      <td>31</td>\n",
       "      <td>Employed full-time</td>\n",
       "      <td>Yes</td>\n",
       "      <td>Data Scientist</td>\n",
       "      <td>Perfectly</td>\n",
       "      <td>Employed by a company that doesn't perform adv...</td>\n",
       "      <td>TensorFlow</td>\n",
       "      <td>Neural Nets</td>\n",
       "      <td>...</td>\n",
       "      <td>Doctoral degree</td>\n",
       "      <td>Physics</td>\n",
       "      <td>Work</td>\n",
       "      <td>115000.0</td>\n",
       "      <td>SPL</td>\n",
       "      <td>7</td>\n",
       "      <td>NaN</td>\n",
       "      <td>NaN</td>\n",
       "      <td>NaN</td>\n",
       "      <td>NaN</td>\n",
       "    </tr>\n",
       "  </tbody>\n",
       "</table>\n",
       "<p>1 rows × 21 columns</p>\n",
       "</div>"
      ],
      "text/plain": [
       "     GenderSelect        Country  Age    EmploymentStatus CodeWriter  \\\n",
       "1118         Male  United States   31  Employed full-time        Yes   \n",
       "\n",
       "     CurrentJobTitleSelect   TitleFit  \\\n",
       "1118        Data Scientist  Perfectly   \n",
       "\n",
       "                                    CurrentEmployerType MLToolNextYearSelect  \\\n",
       "1118  Employed by a company that doesn't perform adv...           TensorFlow   \n",
       "\n",
       "     MLMethodNextYearSelect  ...  FormalEducation MajorSelect  \\\n",
       "1118            Neural Nets  ...  Doctoral degree     Physics   \n",
       "\n",
       "     FirstTrainingSelect CompensationAmount  CompensationCurrency  \\\n",
       "1118                Work           115000.0                   SPL   \n",
       "\n",
       "     JobSatisfaction Unnamed: 0  originCountry exchangeRate  exchangeRateAUS  \n",
       "1118               7        NaN            NaN          NaN              NaN  \n",
       "\n",
       "[1 rows x 21 columns]"
      ]
     },
     "execution_count": 56,
     "metadata": {},
     "output_type": "execute_result"
    }
   ],
   "source": [
    "# Your code\n",
    "df_demog =  pd.read_csv(ConvDataSet)\n",
    "#CompensationCurrency = originCountry\n",
    "#merge the datascience df with the currency exchange df\n",
    "df_demog_currency = pd.merge(df_demog_ds,df_demog,left_on='CompensationCurrency', right_on='originCountry', how='left')\n",
    "#create a new column with the AUS currency salary\n",
    "df_demog_currency = df_demog_currency.assign(exchangeRateAUS = df_demog_currency.CompensationAmount * df_demog_currency.exchangeRate)\n",
    "df_demog_currency[df_demog_currency['exchangeRateAUS'].isnull()]"
   ]
  },
  {
   "cell_type": "markdown",
   "metadata": {
    "colab_type": "text",
    "id": "6MYDXU6dot7T"
   },
   "source": [
    "<div class=\"alert alert-block alert-info\">\n",
    "\n",
    "**Code**: \n",
    "Use the codes for each country to merge the files so that you can convert the salary data to Australian Dollars (AUD). Print out the maximum and median salary in AUD. Hint: think about what data type you have.\n",
    "    \n",
    "<div class=\"alert alert-block alert-warning\">\n",
    "    \n",
    "**Report**: \n",
    "    **1.2.A** In your report's section '1.2.A', answer what is the maximum and median salary in AUD.\n",
    "</div>\n",
    "\n",
    "\n",
    "</div>\n"
   ]
  },
  {
   "cell_type": "code",
   "execution_count": 73,
   "metadata": {
    "colab": {},
    "colab_type": "code",
    "id": "tyMNN-r3Jyjc"
   },
   "outputs": [
    {
     "name": "stdout",
     "output_type": "stream",
     "text": [
      "The Maximum salary in Australia is: $595,884.60 . The median salary in australia is $71,268.06 \n"
     ]
    },
    {
     "data": {
      "text/html": [
       "<style  type=\"text/css\" >\n",
       "</style><table id=\"T_7f3fe546_6c12_11ea_8db4_8c85903299bb\" ><thead>    <tr>        <th class=\"blank level0\" ></th>        <th class=\"col_heading level0 col0\" >max</th>        <th class=\"col_heading level0 col1\" >median</th>    </tr>    <tr>        <th class=\"index_name level0\" >originCountry</th>        <th class=\"blank\" ></th>        <th class=\"blank\" ></th>    </tr></thead><tbody>\n",
       "                <tr>\n",
       "                        <th id=\"T_7f3fe546_6c12_11ea_8db4_8c85903299bblevel0_row0\" class=\"row_heading level0 row0\" >AED</th>\n",
       "                        <td id=\"T_7f3fe546_6c12_11ea_8db4_8c85903299bbrow0_col0\" class=\"data row0 col0\" >$70,786.56</td>\n",
       "                        <td id=\"T_7f3fe546_6c12_11ea_8db4_8c85903299bbrow0_col1\" class=\"data row0 col1\" >$70,786.56</td>\n",
       "            </tr>\n",
       "            <tr>\n",
       "                        <th id=\"T_7f3fe546_6c12_11ea_8db4_8c85903299bblevel0_row1\" class=\"row_heading level0 row1\" >AFN</th>\n",
       "                        <td id=\"T_7f3fe546_6c12_11ea_8db4_8c85903299bbrow1_col0\" class=\"data row1 col0\" >$1,457.00</td>\n",
       "                        <td id=\"T_7f3fe546_6c12_11ea_8db4_8c85903299bbrow1_col1\" class=\"data row1 col1\" >$1,457.00</td>\n",
       "            </tr>\n",
       "            <tr>\n",
       "                        <th id=\"T_7f3fe546_6c12_11ea_8db4_8c85903299bblevel0_row2\" class=\"row_heading level0 row2\" >AMD</th>\n",
       "                        <td id=\"T_7f3fe546_6c12_11ea_8db4_8c85903299bbrow2_col0\" class=\"data row2 col0\" >$271.70</td>\n",
       "                        <td id=\"T_7f3fe546_6c12_11ea_8db4_8c85903299bbrow2_col1\" class=\"data row2 col1\" >$271.70</td>\n",
       "            </tr>\n",
       "            <tr>\n",
       "                        <th id=\"T_7f3fe546_6c12_11ea_8db4_8c85903299bblevel0_row3\" class=\"row_heading level0 row3\" >ARS</th>\n",
       "                        <td id=\"T_7f3fe546_6c12_11ea_8db4_8c85903299bbrow3_col0\" class=\"data row3 col0\" >$42,664.12</td>\n",
       "                        <td id=\"T_7f3fe546_6c12_11ea_8db4_8c85903299bbrow3_col1\" class=\"data row3 col1\" >$22,793.16</td>\n",
       "            </tr>\n",
       "            <tr>\n",
       "                        <th id=\"T_7f3fe546_6c12_11ea_8db4_8c85903299bblevel0_row4\" class=\"row_heading level0 row4\" >AUD</th>\n",
       "                        <td id=\"T_7f3fe546_6c12_11ea_8db4_8c85903299bbrow4_col0\" class=\"data row4 col0\" >$280,808.50</td>\n",
       "                        <td id=\"T_7f3fe546_6c12_11ea_8db4_8c85903299bbrow4_col1\" class=\"data row4 col1\" >$115,131.49</td>\n",
       "            </tr>\n",
       "            <tr>\n",
       "                        <th id=\"T_7f3fe546_6c12_11ea_8db4_8c85903299bblevel0_row5\" class=\"row_heading level0 row5\" >BRL</th>\n",
       "                        <td id=\"T_7f3fe546_6c12_11ea_8db4_8c85903299bbrow5_col0\" class=\"data row5 col0\" >$128,540.00</td>\n",
       "                        <td id=\"T_7f3fe546_6c12_11ea_8db4_8c85903299bbrow5_col1\" class=\"data row5 col1\" >$35,348.50</td>\n",
       "            </tr>\n",
       "            <tr>\n",
       "                        <th id=\"T_7f3fe546_6c12_11ea_8db4_8c85903299bblevel0_row6\" class=\"row_heading level0 row6\" >CAD</th>\n",
       "                        <td id=\"T_7f3fe546_6c12_11ea_8db4_8c85903299bbrow6_col0\" class=\"data row6 col0\" >$197,685.12</td>\n",
       "                        <td id=\"T_7f3fe546_6c12_11ea_8db4_8c85903299bbrow6_col1\" class=\"data row6 col1\" >$80,309.58</td>\n",
       "            </tr>\n",
       "            <tr>\n",
       "                        <th id=\"T_7f3fe546_6c12_11ea_8db4_8c85903299bblevel0_row7\" class=\"row_heading level0 row7\" >CHF</th>\n",
       "                        <td id=\"T_7f3fe546_6c12_11ea_8db4_8c85903299bbrow7_col0\" class=\"data row7 col0\" >$177,374.94</td>\n",
       "                        <td id=\"T_7f3fe546_6c12_11ea_8db4_8c85903299bbrow7_col1\" class=\"data row7 col1\" >$135,639.66</td>\n",
       "            </tr>\n",
       "            <tr>\n",
       "                        <th id=\"T_7f3fe546_6c12_11ea_8db4_8c85903299bblevel0_row8\" class=\"row_heading level0 row8\" >CLP</th>\n",
       "                        <td id=\"T_7f3fe546_6c12_11ea_8db4_8c85903299bbrow8_col0\" class=\"data row8 col0\" >$48,180.00</td>\n",
       "                        <td id=\"T_7f3fe546_6c12_11ea_8db4_8c85903299bbrow8_col1\" class=\"data row8 col1\" >$24,090.00</td>\n",
       "            </tr>\n",
       "            <tr>\n",
       "                        <th id=\"T_7f3fe546_6c12_11ea_8db4_8c85903299bblevel0_row9\" class=\"row_heading level0 row9\" >CNY</th>\n",
       "                        <td id=\"T_7f3fe546_6c12_11ea_8db4_8c85903299bbrow9_col0\" class=\"data row9 col0\" >$91,800.00</td>\n",
       "                        <td id=\"T_7f3fe546_6c12_11ea_8db4_8c85903299bbrow9_col1\" class=\"data row9 col1\" >$55,080.00</td>\n",
       "            </tr>\n",
       "            <tr>\n",
       "                        <th id=\"T_7f3fe546_6c12_11ea_8db4_8c85903299bblevel0_row10\" class=\"row_heading level0 row10\" >COP</th>\n",
       "                        <td id=\"T_7f3fe546_6c12_11ea_8db4_8c85903299bbrow10_col0\" class=\"data row10 col0\" >$53,352.00</td>\n",
       "                        <td id=\"T_7f3fe546_6c12_11ea_8db4_8c85903299bbrow10_col1\" class=\"data row10 col1\" >$20,520.00</td>\n",
       "            </tr>\n",
       "            <tr>\n",
       "                        <th id=\"T_7f3fe546_6c12_11ea_8db4_8c85903299bblevel0_row11\" class=\"row_heading level0 row11\" >CRC</th>\n",
       "                        <td id=\"T_7f3fe546_6c12_11ea_8db4_8c85903299bbrow11_col0\" class=\"data row11 col0\" >$517.80</td>\n",
       "                        <td id=\"T_7f3fe546_6c12_11ea_8db4_8c85903299bbrow11_col1\" class=\"data row11 col1\" >$517.80</td>\n",
       "            </tr>\n",
       "            <tr>\n",
       "                        <th id=\"T_7f3fe546_6c12_11ea_8db4_8c85903299bblevel0_row12\" class=\"row_heading level0 row12\" >CZK</th>\n",
       "                        <td id=\"T_7f3fe546_6c12_11ea_8db4_8c85903299bbrow12_col0\" class=\"data row12 col0\" >$64,148.00</td>\n",
       "                        <td id=\"T_7f3fe546_6c12_11ea_8db4_8c85903299bbrow12_col1\" class=\"data row12 col1\" >$36,656.00</td>\n",
       "            </tr>\n",
       "            <tr>\n",
       "                        <th id=\"T_7f3fe546_6c12_11ea_8db4_8c85903299bblevel0_row13\" class=\"row_heading level0 row13\" >DKK</th>\n",
       "                        <td id=\"T_7f3fe546_6c12_11ea_8db4_8c85903299bbrow13_col0\" class=\"data row13 col0\" >$102,867.20</td>\n",
       "                        <td id=\"T_7f3fe546_6c12_11ea_8db4_8c85903299bbrow13_col1\" class=\"data row13 col1\" >$68,310.25</td>\n",
       "            </tr>\n",
       "            <tr>\n",
       "                        <th id=\"T_7f3fe546_6c12_11ea_8db4_8c85903299bblevel0_row14\" class=\"row_heading level0 row14\" >EGP</th>\n",
       "                        <td id=\"T_7f3fe546_6c12_11ea_8db4_8c85903299bbrow14_col0\" class=\"data row14 col0\" >$16,996.80</td>\n",
       "                        <td id=\"T_7f3fe546_6c12_11ea_8db4_8c85903299bbrow14_col1\" class=\"data row14 col1\" >$8,739.19</td>\n",
       "            </tr>\n",
       "            <tr>\n",
       "                        <th id=\"T_7f3fe546_6c12_11ea_8db4_8c85903299bblevel0_row15\" class=\"row_heading level0 row15\" >EUR</th>\n",
       "                        <td id=\"T_7f3fe546_6c12_11ea_8db4_8c85903299bbrow15_col0\" class=\"data row15 col0\" >$263,081.72</td>\n",
       "                        <td id=\"T_7f3fe546_6c12_11ea_8db4_8c85903299bbrow15_col1\" class=\"data row15 col1\" >$59,791.30</td>\n",
       "            </tr>\n",
       "            <tr>\n",
       "                        <th id=\"T_7f3fe546_6c12_11ea_8db4_8c85903299bblevel0_row16\" class=\"row_heading level0 row16\" >GBP</th>\n",
       "                        <td id=\"T_7f3fe546_6c12_11ea_8db4_8c85903299bbrow16_col0\" class=\"data row16 col0\" >$595,884.60</td>\n",
       "                        <td id=\"T_7f3fe546_6c12_11ea_8db4_8c85903299bbrow16_col1\" class=\"data row16 col1\" >$66,209.40</td>\n",
       "            </tr>\n",
       "            <tr>\n",
       "                        <th id=\"T_7f3fe546_6c12_11ea_8db4_8c85903299bblevel0_row17\" class=\"row_heading level0 row17\" >GTQ</th>\n",
       "                        <td id=\"T_7f3fe546_6c12_11ea_8db4_8c85903299bbrow17_col0\" class=\"data row17 col0\" >$34,231.50</td>\n",
       "                        <td id=\"T_7f3fe546_6c12_11ea_8db4_8c85903299bbrow17_col1\" class=\"data row17 col1\" >$34,231.50</td>\n",
       "            </tr>\n",
       "            <tr>\n",
       "                        <th id=\"T_7f3fe546_6c12_11ea_8db4_8c85903299bblevel0_row18\" class=\"row_heading level0 row18\" >HKD</th>\n",
       "                        <td id=\"T_7f3fe546_6c12_11ea_8db4_8c85903299bbrow18_col0\" class=\"data row18 col0\" >$58,239.09</td>\n",
       "                        <td id=\"T_7f3fe546_6c12_11ea_8db4_8c85903299bbrow18_col1\" class=\"data row18 col1\" >$32,127.50</td>\n",
       "            </tr>\n",
       "            <tr>\n",
       "                        <th id=\"T_7f3fe546_6c12_11ea_8db4_8c85903299bblevel0_row19\" class=\"row_heading level0 row19\" >HRK</th>\n",
       "                        <td id=\"T_7f3fe546_6c12_11ea_8db4_8c85903299bbrow19_col0\" class=\"data row19 col0\" >$25,696.96</td>\n",
       "                        <td id=\"T_7f3fe546_6c12_11ea_8db4_8c85903299bbrow19_col1\" class=\"data row19 col1\" >$24,412.11</td>\n",
       "            </tr>\n",
       "            <tr>\n",
       "                        <th id=\"T_7f3fe546_6c12_11ea_8db4_8c85903299bblevel0_row20\" class=\"row_heading level0 row20\" >HUF</th>\n",
       "                        <td id=\"T_7f3fe546_6c12_11ea_8db4_8c85903299bbrow20_col0\" class=\"data row20 col0\" >$58,440.00</td>\n",
       "                        <td id=\"T_7f3fe546_6c12_11ea_8db4_8c85903299bbrow20_col1\" class=\"data row20 col1\" >$13,090.56</td>\n",
       "            </tr>\n",
       "            <tr>\n",
       "                        <th id=\"T_7f3fe546_6c12_11ea_8db4_8c85903299bblevel0_row21\" class=\"row_heading level0 row21\" >IDR</th>\n",
       "                        <td id=\"T_7f3fe546_6c12_11ea_8db4_8c85903299bbrow21_col0\" class=\"data row21 col0\" >$40,280.00</td>\n",
       "                        <td id=\"T_7f3fe546_6c12_11ea_8db4_8c85903299bbrow21_col1\" class=\"data row21 col1\" >$7,486.00</td>\n",
       "            </tr>\n",
       "            <tr>\n",
       "                        <th id=\"T_7f3fe546_6c12_11ea_8db4_8c85903299bblevel0_row22\" class=\"row_heading level0 row22\" >ILS</th>\n",
       "                        <td id=\"T_7f3fe546_6c12_11ea_8db4_8c85903299bbrow22_col0\" class=\"data row22 col0\" >$135,827.52</td>\n",
       "                        <td id=\"T_7f3fe546_6c12_11ea_8db4_8c85903299bbrow22_col1\" class=\"data row22 col1\" >$74,705.14</td>\n",
       "            </tr>\n",
       "            <tr>\n",
       "                        <th id=\"T_7f3fe546_6c12_11ea_8db4_8c85903299bblevel0_row23\" class=\"row_heading level0 row23\" >INR</th>\n",
       "                        <td id=\"T_7f3fe546_6c12_11ea_8db4_8c85903299bbrow23_col0\" class=\"data row23 col0\" >$78,100.00</td>\n",
       "                        <td id=\"T_7f3fe546_6c12_11ea_8db4_8c85903299bbrow23_col1\" class=\"data row23 col1\" >$15,620.00</td>\n",
       "            </tr>\n",
       "            <tr>\n",
       "                        <th id=\"T_7f3fe546_6c12_11ea_8db4_8c85903299bblevel0_row24\" class=\"row_heading level0 row24\" >IRR</th>\n",
       "                        <td id=\"T_7f3fe546_6c12_11ea_8db4_8c85903299bbrow24_col0\" class=\"data row24 col0\" >$12,000.00</td>\n",
       "                        <td id=\"T_7f3fe546_6c12_11ea_8db4_8c85903299bbrow24_col1\" class=\"data row24 col1\" >$2,400.00</td>\n",
       "            </tr>\n",
       "            <tr>\n",
       "                        <th id=\"T_7f3fe546_6c12_11ea_8db4_8c85903299bblevel0_row25\" class=\"row_heading level0 row25\" >JOD</th>\n",
       "                        <td id=\"T_7f3fe546_6c12_11ea_8db4_8c85903299bbrow25_col0\" class=\"data row25 col0\" >$50.78</td>\n",
       "                        <td id=\"T_7f3fe546_6c12_11ea_8db4_8c85903299bbrow25_col1\" class=\"data row25 col1\" >$50.78</td>\n",
       "            </tr>\n",
       "            <tr>\n",
       "                        <th id=\"T_7f3fe546_6c12_11ea_8db4_8c85903299bblevel0_row26\" class=\"row_heading level0 row26\" >JPY</th>\n",
       "                        <td id=\"T_7f3fe546_6c12_11ea_8db4_8c85903299bbrow26_col0\" class=\"data row26 col0\" >$136,620.00</td>\n",
       "                        <td id=\"T_7f3fe546_6c12_11ea_8db4_8c85903299bbrow26_col1\" class=\"data row26 col1\" >$70,587.00</td>\n",
       "            </tr>\n",
       "            <tr>\n",
       "                        <th id=\"T_7f3fe546_6c12_11ea_8db4_8c85903299bblevel0_row27\" class=\"row_heading level0 row27\" >KES</th>\n",
       "                        <td id=\"T_7f3fe546_6c12_11ea_8db4_8c85903299bbrow27_col0\" class=\"data row27 col0\" >$29,178.00</td>\n",
       "                        <td id=\"T_7f3fe546_6c12_11ea_8db4_8c85903299bbrow27_col1\" class=\"data row27 col1\" >$29,178.00</td>\n",
       "            </tr>\n",
       "            <tr>\n",
       "                        <th id=\"T_7f3fe546_6c12_11ea_8db4_8c85903299bblevel0_row28\" class=\"row_heading level0 row28\" >KRW</th>\n",
       "                        <td id=\"T_7f3fe546_6c12_11ea_8db4_8c85903299bbrow28_col0\" class=\"data row28 col0\" >$26,580.00</td>\n",
       "                        <td id=\"T_7f3fe546_6c12_11ea_8db4_8c85903299bbrow28_col1\" class=\"data row28 col1\" >$18,074.40</td>\n",
       "            </tr>\n",
       "            <tr>\n",
       "                        <th id=\"T_7f3fe546_6c12_11ea_8db4_8c85903299bblevel0_row29\" class=\"row_heading level0 row29\" >LKR</th>\n",
       "                        <td id=\"T_7f3fe546_6c12_11ea_8db4_8c85903299bbrow29_col0\" class=\"data row29 col0\" >$522.88</td>\n",
       "                        <td id=\"T_7f3fe546_6c12_11ea_8db4_8c85903299bbrow29_col1\" class=\"data row29 col1\" >$522.88</td>\n",
       "            </tr>\n",
       "            <tr>\n",
       "                        <th id=\"T_7f3fe546_6c12_11ea_8db4_8c85903299bblevel0_row30\" class=\"row_heading level0 row30\" >MAD</th>\n",
       "                        <td id=\"T_7f3fe546_6c12_11ea_8db4_8c85903299bbrow30_col0\" class=\"data row30 col0\" >$12,849.12</td>\n",
       "                        <td id=\"T_7f3fe546_6c12_11ea_8db4_8c85903299bbrow30_col1\" class=\"data row30 col1\" >$12,849.12</td>\n",
       "            </tr>\n",
       "            <tr>\n",
       "                        <th id=\"T_7f3fe546_6c12_11ea_8db4_8c85903299bblevel0_row31\" class=\"row_heading level0 row31\" >MGA</th>\n",
       "                        <td id=\"T_7f3fe546_6c12_11ea_8db4_8c85903299bbrow31_col0\" class=\"data row31 col0\" >$20,280.00</td>\n",
       "                        <td id=\"T_7f3fe546_6c12_11ea_8db4_8c85903299bbrow31_col1\" class=\"data row31 col1\" >$20,280.00</td>\n",
       "            </tr>\n",
       "            <tr>\n",
       "                        <th id=\"T_7f3fe546_6c12_11ea_8db4_8c85903299bblevel0_row32\" class=\"row_heading level0 row32\" >MXN</th>\n",
       "                        <td id=\"T_7f3fe546_6c12_11ea_8db4_8c85903299bbrow32_col0\" class=\"data row32 col0\" >$72,532.33</td>\n",
       "                        <td id=\"T_7f3fe546_6c12_11ea_8db4_8c85903299bbrow32_col1\" class=\"data row32 col1\" >$25,386.30</td>\n",
       "            </tr>\n",
       "            <tr>\n",
       "                        <th id=\"T_7f3fe546_6c12_11ea_8db4_8c85903299bblevel0_row33\" class=\"row_heading level0 row33\" >MYR</th>\n",
       "                        <td id=\"T_7f3fe546_6c12_11ea_8db4_8c85903299bbrow33_col0\" class=\"data row33 col0\" >$40,185.83</td>\n",
       "                        <td id=\"T_7f3fe546_6c12_11ea_8db4_8c85903299bbrow33_col1\" class=\"data row33 col1\" >$18,975.32</td>\n",
       "            </tr>\n",
       "            <tr>\n",
       "                        <th id=\"T_7f3fe546_6c12_11ea_8db4_8c85903299bblevel0_row34\" class=\"row_heading level0 row34\" >NGN</th>\n",
       "                        <td id=\"T_7f3fe546_6c12_11ea_8db4_8c85903299bbrow34_col0\" class=\"data row34 col0\" >$25,092.00</td>\n",
       "                        <td id=\"T_7f3fe546_6c12_11ea_8db4_8c85903299bbrow34_col1\" class=\"data row34 col1\" >$12,615.70</td>\n",
       "            </tr>\n",
       "            <tr>\n",
       "                        <th id=\"T_7f3fe546_6c12_11ea_8db4_8c85903299bblevel0_row35\" class=\"row_heading level0 row35\" >NOK</th>\n",
       "                        <td id=\"T_7f3fe546_6c12_11ea_8db4_8c85903299bbrow35_col0\" class=\"data row35 col0\" >$114,751.80</td>\n",
       "                        <td id=\"T_7f3fe546_6c12_11ea_8db4_8c85903299bbrow35_col1\" class=\"data row35 col1\" >$101,045.33</td>\n",
       "            </tr>\n",
       "            <tr>\n",
       "                        <th id=\"T_7f3fe546_6c12_11ea_8db4_8c85903299bblevel0_row36\" class=\"row_heading level0 row36\" >NZD</th>\n",
       "                        <td id=\"T_7f3fe546_6c12_11ea_8db4_8c85903299bbrow36_col0\" class=\"data row36 col0\" >$87,336.12</td>\n",
       "                        <td id=\"T_7f3fe546_6c12_11ea_8db4_8c85903299bbrow36_col1\" class=\"data row36 col1\" >$70,960.60</td>\n",
       "            </tr>\n",
       "            <tr>\n",
       "                        <th id=\"T_7f3fe546_6c12_11ea_8db4_8c85903299bblevel0_row37\" class=\"row_heading level0 row37\" >PHP</th>\n",
       "                        <td id=\"T_7f3fe546_6c12_11ea_8db4_8c85903299bbrow37_col0\" class=\"data row37 col0\" >$19,637.00</td>\n",
       "                        <td id=\"T_7f3fe546_6c12_11ea_8db4_8c85903299bbrow37_col1\" class=\"data row37 col1\" >$2,945.55</td>\n",
       "            </tr>\n",
       "            <tr>\n",
       "                        <th id=\"T_7f3fe546_6c12_11ea_8db4_8c85903299bblevel0_row38\" class=\"row_heading level0 row38\" >PKR</th>\n",
       "                        <td id=\"T_7f3fe546_6c12_11ea_8db4_8c85903299bbrow38_col0\" class=\"data row38 col0\" >$39,799.20</td>\n",
       "                        <td id=\"T_7f3fe546_6c12_11ea_8db4_8c85903299bbrow38_col1\" class=\"data row38 col1\" >$9,096.96</td>\n",
       "            </tr>\n",
       "            <tr>\n",
       "                        <th id=\"T_7f3fe546_6c12_11ea_8db4_8c85903299bblevel0_row39\" class=\"row_heading level0 row39\" >PLN</th>\n",
       "                        <td id=\"T_7f3fe546_6c12_11ea_8db4_8c85903299bbrow39_col0\" class=\"data row39 col0\" >$56,220.80</td>\n",
       "                        <td id=\"T_7f3fe546_6c12_11ea_8db4_8c85903299bbrow39_col1\" class=\"data row39 col1\" >$32,326.96</td>\n",
       "            </tr>\n",
       "            <tr>\n",
       "                        <th id=\"T_7f3fe546_6c12_11ea_8db4_8c85903299bblevel0_row40\" class=\"row_heading level0 row40\" >RON</th>\n",
       "                        <td id=\"T_7f3fe546_6c12_11ea_8db4_8c85903299bbrow40_col0\" class=\"data row40 col0\" >$16,897.66</td>\n",
       "                        <td id=\"T_7f3fe546_6c12_11ea_8db4_8c85903299bbrow40_col1\" class=\"data row40 col1\" >$14,298.02</td>\n",
       "            </tr>\n",
       "            <tr>\n",
       "                        <th id=\"T_7f3fe546_6c12_11ea_8db4_8c85903299bblevel0_row41\" class=\"row_heading level0 row41\" >RUB</th>\n",
       "                        <td id=\"T_7f3fe546_6c12_11ea_8db4_8c85903299bbrow41_col0\" class=\"data row41 col0\" >$62,647.20</td>\n",
       "                        <td id=\"T_7f3fe546_6c12_11ea_8db4_8c85903299bbrow41_col1\" class=\"data row41 col1\" >$6,786.78</td>\n",
       "            </tr>\n",
       "            <tr>\n",
       "                        <th id=\"T_7f3fe546_6c12_11ea_8db4_8c85903299bblevel0_row42\" class=\"row_heading level0 row42\" >SEK</th>\n",
       "                        <td id=\"T_7f3fe546_6c12_11ea_8db4_8c85903299bbrow42_col0\" class=\"data row42 col0\" >$106,423.40</td>\n",
       "                        <td id=\"T_7f3fe546_6c12_11ea_8db4_8c85903299bbrow42_col1\" class=\"data row42 col1\" >$87,642.80</td>\n",
       "            </tr>\n",
       "            <tr>\n",
       "                        <th id=\"T_7f3fe546_6c12_11ea_8db4_8c85903299bblevel0_row43\" class=\"row_heading level0 row43\" >SGD</th>\n",
       "                        <td id=\"T_7f3fe546_6c12_11ea_8db4_8c85903299bbrow43_col0\" class=\"data row43 col0\" >$222,776.70</td>\n",
       "                        <td id=\"T_7f3fe546_6c12_11ea_8db4_8c85903299bbrow43_col1\" class=\"data row43 col1\" >$66,833.01</td>\n",
       "            </tr>\n",
       "            <tr>\n",
       "                        <th id=\"T_7f3fe546_6c12_11ea_8db4_8c85903299bblevel0_row44\" class=\"row_heading level0 row44\" >SZL</th>\n",
       "                        <td id=\"T_7f3fe546_6c12_11ea_8db4_8c85903299bbrow44_col0\" class=\"data row44 col0\" >$9,240.24</td>\n",
       "                        <td id=\"T_7f3fe546_6c12_11ea_8db4_8c85903299bbrow44_col1\" class=\"data row44 col1\" >$9,240.24</td>\n",
       "            </tr>\n",
       "            <tr>\n",
       "                        <th id=\"T_7f3fe546_6c12_11ea_8db4_8c85903299bblevel0_row45\" class=\"row_heading level0 row45\" >THB</th>\n",
       "                        <td id=\"T_7f3fe546_6c12_11ea_8db4_8c85903299bbrow45_col0\" class=\"data row45 col0\" >$90,576.00</td>\n",
       "                        <td id=\"T_7f3fe546_6c12_11ea_8db4_8c85903299bbrow45_col1\" class=\"data row45 col1\" >$45,288.00</td>\n",
       "            </tr>\n",
       "            <tr>\n",
       "                        <th id=\"T_7f3fe546_6c12_11ea_8db4_8c85903299bblevel0_row46\" class=\"row_heading level0 row46\" >TRY</th>\n",
       "                        <td id=\"T_7f3fe546_6c12_11ea_8db4_8c85903299bbrow46_col0\" class=\"data row46 col0\" >$24,509.52</td>\n",
       "                        <td id=\"T_7f3fe546_6c12_11ea_8db4_8c85903299bbrow46_col1\" class=\"data row46 col1\" >$17,506.80</td>\n",
       "            </tr>\n",
       "            <tr>\n",
       "                        <th id=\"T_7f3fe546_6c12_11ea_8db4_8c85903299bblevel0_row47\" class=\"row_heading level0 row47\" >TWD</th>\n",
       "                        <td id=\"T_7f3fe546_6c12_11ea_8db4_8c85903299bbrow47_col0\" class=\"data row47 col0\" >$66,608.00</td>\n",
       "                        <td id=\"T_7f3fe546_6c12_11ea_8db4_8c85903299bbrow47_col1\" class=\"data row47 col1\" >$33,304.00</td>\n",
       "            </tr>\n",
       "            <tr>\n",
       "                        <th id=\"T_7f3fe546_6c12_11ea_8db4_8c85903299bblevel0_row48\" class=\"row_heading level0 row48\" >UAH</th>\n",
       "                        <td id=\"T_7f3fe546_6c12_11ea_8db4_8c85903299bbrow48_col0\" class=\"data row48 col0\" >$32,229.12</td>\n",
       "                        <td id=\"T_7f3fe546_6c12_11ea_8db4_8c85903299bbrow48_col1\" class=\"data row48 col1\" >$11,510.40</td>\n",
       "            </tr>\n",
       "            <tr>\n",
       "                        <th id=\"T_7f3fe546_6c12_11ea_8db4_8c85903299bblevel0_row49\" class=\"row_heading level0 row49\" >USD</th>\n",
       "                        <td id=\"T_7f3fe546_6c12_11ea_8db4_8c85903299bbrow49_col0\" class=\"data row49 col0\" >$400,000.00</td>\n",
       "                        <td id=\"T_7f3fe546_6c12_11ea_8db4_8c85903299bbrow49_col1\" class=\"data row49 col1\" >$115,000.00</td>\n",
       "            </tr>\n",
       "            <tr>\n",
       "                        <th id=\"T_7f3fe546_6c12_11ea_8db4_8c85903299bblevel0_row50\" class=\"row_heading level0 row50\" >XOF</th>\n",
       "                        <td id=\"T_7f3fe546_6c12_11ea_8db4_8c85903299bbrow50_col0\" class=\"data row50 col0\" >$2,187.60</td>\n",
       "                        <td id=\"T_7f3fe546_6c12_11ea_8db4_8c85903299bbrow50_col1\" class=\"data row50 col1\" >$2,187.60</td>\n",
       "            </tr>\n",
       "            <tr>\n",
       "                        <th id=\"T_7f3fe546_6c12_11ea_8db4_8c85903299bblevel0_row51\" class=\"row_heading level0 row51\" >ZAR</th>\n",
       "                        <td id=\"T_7f3fe546_6c12_11ea_8db4_8c85903299bbrow51_col0\" class=\"data row51 col0\" >$100,102.60</td>\n",
       "                        <td id=\"T_7f3fe546_6c12_11ea_8db4_8c85903299bbrow51_col1\" class=\"data row51 col1\" >$45,046.17</td>\n",
       "            </tr>\n",
       "    </tbody></table>"
      ],
      "text/plain": [
       "<pandas.io.formats.style.Styler at 0x1a269e6358>"
      ]
     },
     "execution_count": 73,
     "metadata": {},
     "output_type": "execute_result"
    }
   ],
   "source": [
    "# find the maximum and median value for each salary and round to two decimal places\n",
    "#max_med = pd.DataFrame.merge(df_demog_currency.groupby('originCountry')['exchangeRateAUS'].max().round(2),df_demog_currency.groupby('originCountry')['exchangeRateAUS'].median().round(2),left_on='originCountry', right_on='originCountry')\n",
    "#max_med[]\n",
    "#rename the columns to make it look real nice\n",
    "#max_med.rename(columns={\"exchangeRateAUS_x\": \"max_salary (AUD)\", \"exchangeRateAUS_y\": \"median_salary (AUD)\" })\n",
    "\n",
    "salaryAgg = df_demog_currency.groupby('originCountry')['exchangeRateAUS'].agg(['max','median']).style.format('${0:,.2f}')\n",
    "maxSalary = df_demog_currency.exchangeRateAUS.max()\n",
    "medianSalary = df_demog_currency.exchangeRateAUS.median()\n",
    "\n",
    "print(\"The Maximum salary in Australia is: ${:0,.2f}. The median salary in Australia is ${:0,.2f} \".format(maxSalary, medianSalary) )\n",
    "salaryAgg\n",
    "\n"
   ]
  },
  {
   "cell_type": "code",
   "execution_count": 14,
   "metadata": {
    "colab": {
     "base_uri": "https://localhost:8080/",
     "height": 173
    },
    "colab_type": "code",
    "id": "nA9JygJ2ot7v",
    "outputId": "2161e2cb-8d38-4a04-d207-48e1004411d5"
   },
   "outputs": [],
   "source": [
    "# Your code\n"
   ]
  },
  {
   "cell_type": "markdown",
   "metadata": {
    "colab_type": "text",
    "id": "kAtIFQgxMcR9"
   },
   "source": [
    "<div class=\"alert alert-block alert-info\">\n",
    "\n",
    "**Code**: \n",
    "Plot a boxplot of the Australian respondents salary distribution. Print out the maximum and median salaries for Australian repsondnts.\n",
    "\n",
    "    \n",
    "<div class=\"alert alert-block alert-warning\">\n",
    "    \n",
    "**Report**: \n",
    "    **1.2.B** In your report's section '1.2.B', answer what is the maximum and median salary in AUD for Australian respondents, and also include your plotted boxplot of this coding task into your report. \n",
    "</div>\n",
    "\n",
    "\n",
    "</div>\n"
   ]
  },
  {
   "cell_type": "code",
   "execution_count": 63,
   "metadata": {
    "colab": {
     "base_uri": "https://localhost:8080/",
     "height": 301
    },
    "colab_type": "code",
    "id": "44a4HBqvMb_N",
    "outputId": "7ca7de86-0fb6-420d-ada5-386a26c36ee2"
   },
   "outputs": [
    {
     "name": "stdout",
     "output_type": "stream",
     "text": [
      "The Maximum salary in Australia is: $280,808.50 . The median salary in australia is $115,131.49 \n"
     ]
    },
    {
     "data": {
      "image/png": "[encoded data removed]",
      "text/plain": [
       "<Figure size 432x288 with 1 Axes>"
      ]
     },
     "metadata": {},
     "output_type": "display_data"
    }
   ],
   "source": [
    "plt.title(\"Boxplot of salary on Australia\")\n",
    "#df_demog_currency[df_demog_currency.originCountry == 'AUD'].exchangeRateAUS.plot.box()\n",
    "ausSalary = df_demog_currency[df_demog_currency.originCountry == 'AUD'].exchangeRateAUS\n",
    "sns.boxplot(ausSalary, showfliers=True, palette=\"Set3\", width=0.5)\n",
    "\n",
    "AusMax = df_demog_currency[df_demog_currency.originCountry == 'AUD'].exchangeRateAUS.max()\n",
    "AusMed = df_demog_currency[df_demog_currency.originCountry == 'AUD'].exchangeRateAUS.median()\n",
    "\n",
    "print(\"The Maximum salary in Australia is: ${:0,.2f}. The median salary in australia is ${:0,.2f} \".format(AusMax, AusMed) )\n",
    "\n"
   ]
  },
  {
   "cell_type": "code",
   "execution_count": 16,
   "metadata": {
    "colab": {
     "base_uri": "https://localhost:8080/",
     "height": 173
    },
    "colab_type": "code",
    "id": "RZDQMRRfMbSl",
    "outputId": "b02aa5ee-ccfa-4d03-8d99-d3387ac74f90"
   },
   "outputs": [],
   "source": [
    "# Your code\n",
    "\n"
   ]
  },
  {
   "cell_type": "markdown",
   "metadata": {
    "colab_type": "text",
    "id": "b5TQQt_1LSG2"
   },
   "source": [
    "<div class=\"alert alert-block alert-info\">\n",
    "\n",
    "**Code**: \n",
    "There are some outliers in the Australian salary plot. You are required to filter the salary of Australian respondents by removing any below 40,000 or above 250,000. \n",
    "\n",
    "    \n",
    "<div class=\"alert alert-block alert-warning\">\n",
    "    \n",
    "**Report**: \n",
    "    **1.2.C** In your report's section '1.2.C', answer what is the new maximum and median salary in AUD for Australian respondents after filtering, and also include your plotted boxplot of this coding task into your report. \n",
    "</div>\n",
    "\n",
    "\n",
    "</div>\n"
   ]
  },
  {
   "cell_type": "code",
   "execution_count": 74,
   "metadata": {
    "colab": {
     "base_uri": "https://localhost:8080/",
     "height": 173
    },
    "colab_type": "code",
    "id": "2OCbrDb9MUdb",
    "outputId": "cac625f8-363e-439b-af04-cbf0e54fb2d1"
   },
   "outputs": [
    {
     "name": "stdout",
     "output_type": "stream",
     "text": [
      "After removing outliers the max salary is $232,669.90 and the median salary is $117,939.57\n"
     ]
    }
   ],
   "source": [
    "# your code\n",
    "#ausSalary = df_demog_currency[df_demog_currency.originCountry == 'AUD'].exchangeRateAUS\n",
    "NewAusSalary = ausSalary[ausSalary.between(40000,250000)]\n",
    "\n",
    "NewAusMax = NewAusSalary.max()\n",
    "NewAusMed = NewAusSalary.median()\n",
    "\n",
    "print(\"After removing outliers, the max salary is ${:0,.2f} and the median salary is ${:0,.2f}\".format(NewAusMax, NewAusMed))"
   ]
  },
  {
   "cell_type": "code",
   "execution_count": 18,
   "metadata": {
    "colab": {
     "base_uri": "https://localhost:8080/",
     "height": 301
    },
    "colab_type": "code",
    "id": "iDkjx7H1NhAj",
    "outputId": "fcef345c-3a9b-4897-927a-be05810b6d02"
   },
   "outputs": [
    {
     "data": {
      "text/plain": [
       "<matplotlib.axes._subplots.AxesSubplot at 0x11827d6d8>"
      ]
     },
     "execution_count": 18,
     "metadata": {},
     "output_type": "execute_result"
    },
    {
     "data": {
      "image/png": "[encoded data removed]",
      "text/plain": [
       "<Figure size 432x288 with 1 Axes>"
      ]
     },
     "metadata": {},
     "output_type": "display_data"
    }
   ],
   "source": [
    "plt.title(\"Boxplot of filtered salary on Australia\")\n",
    "\n",
    "# Your code\n",
    "sns.boxplot(NewAusSalary, showfliers=True, palette=\"Set3\", width=0.5)"
   ]
  },
  {
   "cell_type": "markdown",
   "metadata": {
    "_cell_guid": "06c9b38b-000e-4b8a-95f0-65a93bb332f2",
    "_uuid": "2bfa8ca86a226c9900a67a02236a072274bc0d18",
    "colab_type": "text",
    "id": "WL_oOonnot2l"
   },
   "source": [
    "### 1.3. Exploring the data scientist Demographics\n",
    "<a id=\"demographics\"></a>\n",
    "***\n",
    "\n",
    "#### 1.3.1 Age\n",
    "<a id=\"age\"></a>\n",
    "You will need to build a boxplot to explore the age of all data scientists. \n",
    "Your plot must have a label for each axis, a tittle and also show the outliers."
   ]
  },
  {
   "cell_type": "code",
   "execution_count": 19,
   "metadata": {
    "colab": {
     "base_uri": "https://localhost:8080/",
     "height": 301
    },
    "colab_type": "code",
    "id": "3qi9JyJHot2o",
    "outputId": "a4a60cbe-b15a-4b71-c3fe-64027b81bb62"
   },
   "outputs": [
    {
     "data": {
      "image/png": "[encoded data removed]",
      "text/plain": [
       "<Figure size 432x288 with 1 Axes>"
      ]
     },
     "metadata": {},
     "output_type": "display_data"
    }
   ],
   "source": [
    "plt.title(\"Boxplot of Age\")\n",
    "\n",
    "ax = sns.boxplot(x=df_demog_ds[\"Age\"])"
   ]
  },
  {
   "cell_type": "markdown",
   "metadata": {
    "colab_type": "text",
    "id": "sQEUpSEOot2u"
   },
   "source": [
    "<div class=\"alert alert-block alert-info\">\n",
    "\n",
    "**Code**: \n",
    "        <ol>\n",
    "        <li> Calculate the five descriptive statistics for age as shown on the boxplot, as well as the mean. Please round your mean to integer.</li>\n",
    "        <li> Regardless of the errors that the data show, we are interested in working-age data scientists, how many aged between 24 and 60. </li>\n",
    "        <li> How many respondents were under 18?</li>\n",
    "    </ol>\n",
    "    \n",
    "\n",
    "    \n",
    "<div class=\"alert alert-block alert-warning\">\n",
    "    \n",
    "**Report**: \n",
    "    **1.3.A** In your report's section '1.3.A', answer \n",
    "        <ol>\n",
    "        <li> What is the mean age? </li>\n",
    "        <li> What is the median age? </li>\n",
    "        <li> how many data scientists aged between 24 and 60</li>\n",
    "        <li> how many respondents were under 18? </li>\n",
    "    </ol>\n",
    "    \n",
    "</div>\n",
    "\n",
    "\n",
    "</div>\n",
    "\n",
    "\n",
    "\n",
    "\n",
    "\n"
   ]
  },
  {
   "cell_type": "code",
   "execution_count": 77,
   "metadata": {
    "colab": {
     "base_uri": "https://localhost:8080/",
     "height": 173
    },
    "colab_type": "code",
    "id": "NYdZjpklot2w",
    "outputId": "ff7d04f8-64e4-4f34-cf43-caa7588d7ed3"
   },
   "outputs": [
    {
     "name": "stdout",
     "output_type": "stream",
     "text": [
      "the mean age of data scientists is 33 years\n"
     ]
    }
   ],
   "source": [
    "# Your code\n",
    "meanAge = int(df_demog_ds[\"Age\"].mean())\n",
    "print('The mean age of data scientists is {} years'.format(meanAge))"
   ]
  },
  {
   "cell_type": "code",
   "execution_count": 78,
   "metadata": {
    "colab": {
     "base_uri": "https://localhost:8080/",
     "height": 35
    },
    "colab_type": "code",
    "id": "ngjxIviIot21",
    "outputId": "97a924af-e98b-4681-f6f0-c8aa303e5a09"
   },
   "outputs": [
    {
     "name": "stdout",
     "output_type": "stream",
     "text": [
      "The median age of data scientists is 33 years\n"
     ]
    }
   ],
   "source": [
    "# Your code\n",
    "medianAge = int(df_demog_ds[\"Age\"].median())\n",
    "print('The median age of data scientists is {} years'.format(meanAge))\n"
   ]
  },
  {
   "cell_type": "code",
   "execution_count": 95,
   "metadata": {
    "colab": {
     "base_uri": "https://localhost:8080/",
     "height": 35
    },
    "colab_type": "code",
    "id": "bW7mnijvJyj1",
    "outputId": "53ddc018-37ad-4dff-d1ca-6946897e7e98"
   },
   "outputs": [
    {
     "name": "stdout",
     "output_type": "stream",
     "text": [
      "The number of data scientists between 24 and 60 is 1188\n"
     ]
    }
   ],
   "source": [
    "# Your code\n",
    "\n"
   ]
  },
  {
   "cell_type": "code",
   "execution_count": 23,
   "metadata": {
    "colab": {
     "base_uri": "https://localhost:8080/",
     "height": 35
    },
    "colab_type": "code",
    "id": "RxcGZ97Uot3M",
    "outputId": "41415243-6be8-48c4-87e7-f98f7a46e1e7"
   },
   "outputs": [],
   "source": [
    "# Your code: How many data scientsits aged between 24 and 60\n",
    "rangeAge = df_demog_ds[df_demog_ds.Age.between(24,60)].Age.count()\n",
    "print('The number of data scientists between 24 and 60 is {}'.format(rangeAge))\n"
   ]
  },
  {
   "cell_type": "code",
   "execution_count": 24,
   "metadata": {
    "colab": {
     "base_uri": "https://localhost:8080/",
     "height": 35
    },
    "colab_type": "code",
    "id": "3fehgZuEJyj8",
    "outputId": "ab079e51-749e-460c-e4d9-a5c23a514ede"
   },
   "outputs": [],
   "source": [
    "# Your Code: how many respondents under 18?\n"
   ]
  },
  {
   "cell_type": "markdown",
   "metadata": {
    "colab_type": "text",
    "id": "c-al5HYdot3W"
   },
   "source": [
    "#### 1.3.2 Gender\n",
    "<a id=\"gender\"></a>\n",
    "We are interested in the gender of respondents. Nowadays, the gender equity is important for companies and organizations. \n"
   ]
  },
  {
   "cell_type": "markdown",
   "metadata": {
    "_cell_guid": "4b0c5cbc-a703-4b39-95bd-510f07ece6c0",
    "_uuid": "214cae932a19a586e341914443aa89e62009e6c4",
    "colab_type": "text",
    "id": "aVdtFL5wot3Y"
   },
   "source": [
    "<div class=\"alert alert-block alert-info\">\n",
    "\n",
    "**Code**: \n",
    "Plot the gender distribution of the data scientist users using a Barchart. \n",
    "</div>\n"
   ]
  },
  {
   "cell_type": "code",
   "execution_count": 25,
   "metadata": {
    "colab": {
     "base_uri": "https://localhost:8080/",
     "height": 301
    },
    "colab_type": "code",
    "id": "OcKUWzqqot3Z",
    "outputId": "401bc6aa-291d-4808-86f2-17994f8e8ef2"
   },
   "outputs": [
    {
     "data": {
      "text/plain": [
       "Text(0.5,1,'Boxplot of Gender')"
      ]
     },
     "execution_count": 25,
     "metadata": {},
     "output_type": "execute_result"
    },
    {
     "data": {
      "image/png": "[encoded data removed]",
      "text/plain": [
       "<Figure size 432x288 with 1 Axes>"
      ]
     },
     "metadata": {},
     "output_type": "display_data"
    }
   ],
   "source": [
    "plt.title(\"Boxplot of Gender\")\n",
    "\n",
    "# Your code\n"
   ]
  },
  {
   "cell_type": "markdown",
   "metadata": {},
   "source": [
    "Now let's see if any relationship between gender and age\n",
    "\n",
    "Create a box plot showing the age of all the data scientists according to gender (men, women and other identity)."
   ]
  },
  {
   "cell_type": "code",
   "execution_count": 26,
   "metadata": {
    "colab": {
     "base_uri": "https://localhost:8080/",
     "height": 301
    },
    "colab_type": "code",
    "id": "fLPvkJt2ot30",
    "outputId": "dac6f3ae-67cf-49f1-8132-ecd33346f476"
   },
   "outputs": [
    {
     "data": {
      "text/plain": [
       "Text(0.5,1,'Boxplot of Age with GenderSelect')"
      ]
     },
     "execution_count": 26,
     "metadata": {},
     "output_type": "execute_result"
    },
    {
     "data": {
      "image/png": "[encoded data removed]",
      "text/plain": [
       "<Figure size 432x288 with 1 Axes>"
      ]
     },
     "metadata": {},
     "output_type": "display_data"
    }
   ],
   "source": [
    "plt.title(\"Boxplot of Age with GenderSelect\")\n",
    "\n",
    "# Your code here"
   ]
  },
  {
   "cell_type": "markdown",
   "metadata": {
    "colab_type": "text",
    "id": "MQb_Obrpot3e"
   },
   "source": [
    "<div class=\"alert alert-block alert-info\">\n",
    "\n",
    "**Code**: \n",
    "You are required to use the barchart to show the percentage of men, women and other identity.\n",
    "    \n",
    "    \n",
    "<div class=\"alert alert-block alert-warning\">\n",
    "    \n",
    "**Report**: \n",
    "    **1.3.B** In your report's section '1.3.B', include the bar chart generated from your code.\n",
    "</div>\n",
    "    \n",
    "\n",
    "</div>"
   ]
  },
  {
   "cell_type": "code",
   "execution_count": 27,
   "metadata": {
    "colab": {
     "base_uri": "https://localhost:8080/",
     "height": 518
    },
    "colab_type": "code",
    "id": "H0tU0cJLot3h",
    "outputId": "dcd0fa35-7839-4d84-c472-4f3d79721bf8"
   },
   "outputs": [
    {
     "data": {
      "text/plain": [
       "Text(0,0.5,'Percentage [%]')"
      ]
     },
     "execution_count": 27,
     "metadata": {},
     "output_type": "execute_result"
    },
    {
     "data": {
      "image/png": "[encoded data removed]",
      "text/plain": [
       "<Figure size 864x576 with 1 Axes>"
      ]
     },
     "metadata": {},
     "output_type": "display_data"
    }
   ],
   "source": [
    "plt.figure(figsize=(12,8))\n",
    "plt.title('Distribution of Gender')\n",
    "plt.xlabel('Gender Select')\n",
    "plt.ylabel('Percentage [%]')\n",
    "\n",
    "# Your code\n",
    " "
   ]
  },
  {
   "cell_type": "markdown",
   "metadata": {
    "colab_type": "text",
    "id": "ohxh7aPWot4G"
   },
   "source": [
    "#### 1.3.3 Country\n",
    "<a id=\"country\"></a>\n",
    "The data scientists are working all over the world. The United States is regarded the largest data science community. India, China and some other countries are also having a fast growing recently. Is this true? Let's find out."
   ]
  },
  {
   "cell_type": "markdown",
   "metadata": {
    "colab_type": "text",
    "id": "gcW1HPZlot4J"
   },
   "source": [
    "<div class=\"alert alert-block alert-info\">\n",
    "\n",
    "**Code**: \n",
    "Find the top 5 countries of data scientists.\n",
    "    \n",
    "<div class=\"alert alert-block alert-warning\">\n",
    "    \n",
    "**Report**: \n",
    "    **1.3.C** In your report's section '1.3.C', answer what are those top 5 countries and their corresponding number of data scienists\n",
    "</div>\n",
    "    \n",
    "\n",
    "</div>"
   ]
  },
  {
   "cell_type": "code",
   "execution_count": 28,
   "metadata": {
    "colab": {
     "base_uri": "https://localhost:8080/",
     "height": 202
    },
    "colab_type": "code",
    "id": "e14ly826ot4L",
    "outputId": "4b766db4-8f1b-490a-9c4a-5a361bd7071a"
   },
   "outputs": [],
   "source": [
    "# Your Code: create and fill value into df_country\n",
    "\n"
   ]
  },
  {
   "cell_type": "code",
   "execution_count": 29,
   "metadata": {
    "_cell_guid": "f3da614f-96e2-45d1-ba78-9d08a58fa136",
    "_kg_hide-input": true,
    "_uuid": "34afcf67184929a6de8358a13a961d0b9ad25b6c",
    "colab": {
     "base_uri": "https://localhost:8080/",
     "height": 678
    },
    "colab_type": "code",
    "id": "4NfzLajkot4X",
    "outputId": "5eaf1aee-0581-4b25-b26f-a61ae5d7c53c"
   },
   "outputs": [],
   "source": [
    "# Show the Boxplot of country\n"
   ]
  },
  {
   "cell_type": "markdown",
   "metadata": {
    "colab_type": "text",
    "id": "t8LLns9IJykS"
   },
   "source": [
    "<div class=\"alert alert-block alert-info\">\n",
    "\n",
    "**Code**: \n",
    "Generate the distribution of top 5 countries of data scientists, using percentage barchart. You can not mannually input the name of top 5 countries (your code should not contain any name of the top 5 countries), and you are required to use python subset functions or many other functions.\n",
    "    \n",
    "<div class=\"alert alert-block alert-warning\">\n",
    "    \n",
    "**Report**: \n",
    "    **1.3.D** In your report's section '1.3.D', including the percentage barchart of those top 5 countries.\n",
    "</div>\n",
    "    \n",
    "\n",
    "</div>"
   ]
  },
  {
   "cell_type": "code",
   "execution_count": 30,
   "metadata": {
    "colab": {
     "base_uri": "https://localhost:8080/",
     "height": 518
    },
    "colab_type": "code",
    "id": "M1g1CA3_ot4l",
    "outputId": "af7a5eef-7396-459e-ecf8-69d9f9f6ea6c"
   },
   "outputs": [
    {
     "data": {
      "text/plain": [
       "Text(0,0.5,'Percentage [%]')"
      ]
     },
     "execution_count": 30,
     "metadata": {},
     "output_type": "execute_result"
    },
    {
     "data": {
      "image/png": "[encoded data removed]",
      "text/plain": [
       "<Figure size 864x576 with 1 Axes>"
      ]
     },
     "metadata": {},
     "output_type": "display_data"
    }
   ],
   "source": [
    "#percentage\n",
    "plt.figure(figsize=(12,8))\n",
    "plt.title('Distribution of Top 5 country with data scientist count')\n",
    "plt.xlabel('Country')\n",
    "plt.ylabel('Percentage [%]')\n",
    "\n",
    "\n",
    "#Your Code: create and fill values into df_country_top5\n",
    "\n"
   ]
  },
  {
   "cell_type": "markdown",
   "metadata": {
    "colab_type": "text",
    "id": "rQNCS52Aot40"
   },
   "source": [
    "Now we have some understanding about the country, let's see if there is any relationship between country, age and gender.\n",
    "\n",
    "<div class=\"alert alert-block alert-info\">\n",
    "\n",
    "**Code**: \n",
    "You are required to output the mean and median age for each gender for the United States, India, Australia, Pakistan\n",
    "\n",
    "\n",
    "<div class=\"alert alert-block alert-warning\">\n",
    "    \n",
    "**Report**: \n",
    "    **1.3.E** In your report's section '1.3.E', including the results of above coding task.\n",
    "</div>\n",
    "\n",
    "\n",
    "</div>\n",
    "\n",
    "\n"
   ]
  },
  {
   "cell_type": "code",
   "execution_count": 31,
   "metadata": {
    "colab": {
     "base_uri": "https://localhost:8080/",
     "height": 325
    },
    "colab_type": "code",
    "id": "C8x3hi3xot45",
    "outputId": "dc0ce279-87ba-4670-d9e1-38726f0f854e"
   },
   "outputs": [],
   "source": [
    "# Your Code\n",
    "\n"
   ]
  },
  {
   "cell_type": "markdown",
   "metadata": {
    "colab_type": "text",
    "id": "gYQNiE5Cot-I"
   },
   "source": [
    "## Part 2 - Data Science Job Advertising Data\n",
    "\n",
    "In this part, you are required to use the text processing skills to find out the insights in data science job adverising Data."
   ]
  },
  {
   "cell_type": "markdown",
   "metadata": {
    "colab_type": "text",
    "id": "LQmiP5-_Nc3b"
   },
   "source": [
    "### 2.1. Load the data and Extract the high frequency words\n",
    "<a id=\"text\"></a>\n",
    "\n",
    "Firstly, you will need to load the [JobPostings.csv](https://github.com/tulip-lab/sit742/raw/master/Assessment/2020/data/JobPostings.csv) data and sub-set out of the job description from it."
   ]
  },
  {
   "cell_type": "code",
   "execution_count": 32,
   "metadata": {
    "colab": {
     "base_uri": "https://localhost:8080/",
     "height": 69
    },
    "colab_type": "code",
    "id": "zH8XAQ0xYGSc",
    "outputId": "6369ff7f-52d3-4a2a-a22d-8b284e76d8de"
   },
   "outputs": [
    {
     "name": "stdout",
     "output_type": "stream",
     "text": [
      "[nltk_data] Downloading package stopwords to\n",
      "[nltk_data]     /Users/sarahmckay/nltk_data...\n",
      "[nltk_data]   Unzipping corpora/stopwords.zip.\n"
     ]
    },
    {
     "data": {
      "text/plain": [
       "True"
      ]
     },
     "execution_count": 32,
     "metadata": {},
     "output_type": "execute_result"
    }
   ],
   "source": [
    "import re\n",
    "import nltk\n",
    "from nltk.tokenize import RegexpTokenizer\n",
    "from nltk.probability import *\n",
    "from itertools import chain\n",
    "#from tqdm import tqdm\n",
    "import codecs\n",
    "from nltk.corpus import stopwords \n",
    "nltk.download('stopwords')"
   ]
  },
  {
   "cell_type": "code",
   "execution_count": 33,
   "metadata": {
    "colab": {},
    "colab_type": "code",
    "id": "p_BSc5WkYcf4"
   },
   "outputs": [],
   "source": [
    "df_text = pd.read_csv('JobPostings.csv')"
   ]
  },
  {
   "cell_type": "markdown",
   "metadata": {
    "colab_type": "text",
    "id": "xm1vdjSKJykj"
   },
   "source": [
    "<div class=\"alert alert-block alert-info\">\n",
    "\n",
    "**Code**: \n",
    "You are required to extract the token and append them into the list 'token'.\n",
    "\n",
    "<div class=\"alert alert-block alert-warning\">\n",
    "    \n",
    "**Report**: \n",
    "    **2.1.A** In your report's section '2.1.A', including your code of this task. You can copy and paster your completed code in the following cell\n",
    "</div>\n",
    "\n",
    "\n",
    "</div>\n"
   ]
  },
  {
   "cell_type": "code",
   "execution_count": 34,
   "metadata": {
    "colab": {},
    "colab_type": "code",
    "id": "Rz03Rd-GYYMw"
   },
   "outputs": [],
   "source": [
    "lower = []\n",
    "for item in df_text['job_description']:\n",
    "    lower.append(item.lower())           # lowercase description\n",
    "\n",
    "tokens = []\n",
    "\n",
    "# Your code: write your code here to define your tokenize, and add to tokens \n",
    "\n",
    "\n"
   ]
  },
  {
   "cell_type": "markdown",
   "metadata": {
    "colab_type": "text",
    "id": "VD4z8w8xOKDJ"
   },
   "source": [
    "Secondly, \n",
    "\n",
    "<div class=\"alert alert-block alert-info\">\n",
    "\n",
    "**Code**: \n",
    "You are required to find out the words freqency which is more than 6000 in the job descriptions. (Please use stopwords at beginning)\n",
    "\n",
    "\n",
    "<div class=\"alert alert-block alert-warning\">\n",
    "    \n",
    "**Report**: \n",
    "    **2.1.B** In your report's section '2.1.B', list those words with frequency > 6000.\n",
    "</div>\n",
    "\n",
    "\n",
    "</div>\n",
    "\n",
    "\n"
   ]
  },
  {
   "cell_type": "code",
   "execution_count": 35,
   "metadata": {
    "colab": {},
    "colab_type": "code",
    "id": "c-Pag_N7Zew-"
   },
   "outputs": [],
   "source": [
    "stop_words = set(stopwords.words('english')) \n",
    "\n",
    "freq6000 = []\n",
    "\n",
    "# Your Code\n",
    "# find top common words with document frequencies > 6000\n",
    "# you may use function FreqDist() and sort()\n"
   ]
  },
  {
   "cell_type": "code",
   "execution_count": 36,
   "metadata": {
    "colab": {
     "base_uri": "https://localhost:8080/",
     "height": 364
    },
    "colab_type": "code",
    "id": "S7JzfU6AaSQi",
    "outputId": "5948118d-956a-4ac2-d47d-d9ac37815910"
   },
   "outputs": [
    {
     "data": {
      "text/plain": [
       "[]"
      ]
     },
     "execution_count": 36,
     "metadata": {},
     "output_type": "execute_result"
    }
   ],
   "source": [
    "freq6000"
   ]
  },
  {
   "cell_type": "markdown",
   "metadata": {
    "colab_type": "text",
    "id": "EK9-BCbDJyky"
   },
   "source": [
    "Then,\n",
    "\n",
    "<div class=\"alert alert-block alert-info\">\n",
    "\n",
    "**Code**: \n",
    "You are required to sort and display the top 10 high frequency words in 'freq6000'\n",
    "\n",
    "<div class=\"alert alert-block alert-warning\">\n",
    "    \n",
    "**Report**: \n",
    "    **2.1.C** In your report's section '2.1.C', list those top 10 words\n",
    "</div>\n",
    "\n",
    "\n",
    "</div>\n",
    "\n",
    "\n",
    "\n",
    "\n"
   ]
  },
  {
   "cell_type": "code",
   "execution_count": 37,
   "metadata": {
    "colab": {
     "base_uri": "https://localhost:8080/",
     "height": 355
    },
    "colab_type": "code",
    "id": "doWvhqRmJykz",
    "outputId": "5411c8b2-23ec-43a6-d41d-20ea9ffcd335"
   },
   "outputs": [],
   "source": [
    "# Your Code to sort and display the top 10 high fequency words in 'freq6000'\n",
    "\n"
   ]
  },
  {
   "cell_type": "markdown",
   "metadata": {},
   "source": [
    "Finally,\n",
    "\n",
    "<div class=\"alert alert-block alert-info\">\n",
    "\n",
    "**Code**: \n",
    "You are required to carry out one more analytics on this data set, and implement it below.\n",
    "\n",
    "<div class=\"alert alert-block alert-warning\">\n",
    "    \n",
    "**Report**: \n",
    "    **2.1.D** In your report's section '2.1.D', describe your self-defined text analysis task, and the discovery from your analysis.\n",
    "</div>\n",
    "\n",
    "\n",
    "</div>\n",
    "\n",
    "\n",
    "\n",
    "\n",
    "\n"
   ]
  },
  {
   "cell_type": "code",
   "execution_count": 38,
   "metadata": {},
   "outputs": [],
   "source": [
    "# Your Code below\n",
    "\n"
   ]
  }
 ],
 "metadata": {
  "colab": {
   "collapsed_sections": [],
   "name": "2020SIT742Task1Sol.ipynb",
   "provenance": [],
   "toc_visible": true
  },
  "kernelspec": {
   "display_name": "Python 3",
   "language": "python",
   "name": "python3"
  },
  "language_info": {
   "codemirror_mode": {
    "name": "ipython",
    "version": 3
   },
   "file_extension": ".py",
   "mimetype": "text/x-python",
   "name": "python",
   "nbconvert_exporter": "python",
   "pygments_lexer": "ipython3",
   "version": "3.6.5"
  }
 },
 "nbformat": 4,
 "nbformat_minor": 4
}
