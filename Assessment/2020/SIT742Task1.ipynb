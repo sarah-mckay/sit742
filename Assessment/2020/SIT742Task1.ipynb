{
 "cells": [
  {
   "cell_type": "markdown",
   "metadata": {
    "colab_type": "text",
    "id": "EMX0qNbHot1x"
   },
   "source": [
    "# SIT742: Modern Data Science \n",
    "**(2020 Assessment Task 01: Exploration for Data Scientists Survey Data)**\n",
    "\n",
    "---\n",
    "- Materials in this module include resources collected from various open-source online repositories.\n",
    "- You are free to use, change and distribute this package.\n",
    "\n",
    "Prepared by **SIT742 Teaching Team**\n",
    "\n",
    "\n",
    "---\n",
    "\n",
    "<div class=\"alert alert-block alert-info\">\n",
    "Enter your information in the following cell. Please make sure you fill your Student ID and Name correctly.  \n",
    "</div>\n",
    "\n",
    "**Student Information:** Please fill your information below\n",
    "\n",
    "- Name:  \n",
    "- Student ID:  \n",
    "- Email:  \n",
    "- Lab Session and Tutor (for on campus students): \n",
    "\n",
    "---"
   ]
  },
  {
   "cell_type": "markdown",
   "metadata": {
    "colab_type": "text",
    "id": "cHdQMSVzJyip"
   },
   "source": [
    "## Overview\n",
    "\n",
    "In 2017, [Kaggle](https://www.kaggle.com) (a data science community and competition platform) conducted a survey on a large range of users registered as the data scientist in their platform. The survey data are broadly covered the skill set of the data scientists, the demographic of the data scientists, the feedback of the platform and many other information. \n",
    "\n",
    "In this task, you will need to \n",
    "\n",
    "- **Part 1**: Given the following two data sets, you are required to finish some required analysis, with the exploreation data analytics skills as well as visuilization skills\n",
    "     - [MCQResponses.csv](https://github.com/tulip-lab/sit742/raw/master/Assessment/2020/data/MCQResponses.csv): Participants' answers to multiple choice questions. Each column contains the answers of one respondent to a specific question.     \n",
    "     - [ConversionRates.csv](https://github.com/tulip-lab/sit742/raw/master/Assessment/2020/data/ConversionRates.csv): Currency conversion rates to USD. \n",
    "- **Part 2**: Given the following data set, you are required to find out top keywords for hiring the data scientists. \n",
    "    - [JobPostings.csv](https://github.com/tulip-lab/sit742/raw/master/Assessment/2020/data/JobPostings.csv): Data scientists job advertising in US with job descriptions, from JobPikr.\n",
    "\n",
    "\n",
    "You will be required to complete the coding to answer the questions with a neat and clean format, and your commenting and adherence to code standards will also be considered when marking. Further information on Python standards, please visit https://www.python.org/dev/peps/pep-0008/ \n",
    "\n",
    "\n",
    "**Note**: You are not necessary to stick to the partial code provided, and you can write your own code to implement the required tasks. But you should provide sufficient comments.\n"
   ]
  },
  {
   "cell_type": "markdown",
   "metadata": {
    "colab_type": "text",
    "id": "0d3FjO8fJyir"
   },
   "source": [
    "## Part 1 - What we could know about the Data Scientists? "
   ]
  },
  {
   "cell_type": "markdown",
   "metadata": {
    "_cell_guid": "06c9b38b-000e-4b8a-95f0-65a93bb332f2",
    "_uuid": "2bfa8ca86a226c9900a67a02236a072274bc0d18",
    "colab_type": "text",
    "id": "NuDhBkqaot17"
   },
   "source": [
    "### 1.0. Libraries and data files\n",
    "<a id=\"Load data\"></a>\n",
    "***\n"
   ]
  },
  {
   "cell_type": "code",
   "execution_count": 1,
   "metadata": {
    "colab": {
     "base_uri": "https://localhost:8080/",
     "height": 193
    },
    "colab_type": "code",
    "id": "Tzx_NMcsJyiv",
    "outputId": "54746ab0-75bc-466d-826b-41766256eaf7"
   },
   "outputs": [
    {
     "name": "stdout",
     "output_type": "stream",
     "text": [
      "Requirement already satisfied: wget in /Users/sarahmckay/anaconda3/lib/python3.6/site-packages (3.2)\r\n"
     ]
    }
   ],
   "source": [
    "!pip install wget"
   ]
  },
  {
   "cell_type": "code",
   "execution_count": 1,
   "metadata": {
    "_cell_guid": "bf6d21b3-22d5-48e4-8a62-a50ef36bae42",
    "_kg_hide-input": true,
    "_kg_hide-output": false,
    "_uuid": "76567470049e7d7e878b76d72e81858f56bdbd2a",
    "colab": {},
    "colab_type": "code",
    "id": "7AVjZqvmot2A",
    "scrolled": true
   },
   "outputs": [],
   "source": [
    "import numpy as np\n",
    "import matplotlib.pyplot as plt\n",
    "import pandas as pd\n",
    "from pandas import datetime\n",
    "import wget\n",
    "import seaborn as sns\n",
    "sns.set(style=\"whitegrid\")"
   ]
  },
  {
   "cell_type": "code",
   "execution_count": 3,
   "metadata": {
    "_cell_guid": "bf6d21b3-22d5-48e4-8a62-a50ef36bae42",
    "_kg_hide-input": true,
    "_kg_hide-output": false,
    "_uuid": "76567470049e7d7e878b76d72e81858f56bdbd2a",
    "colab": {},
    "colab_type": "code",
    "id": "7AVjZqvmot2A",
    "scrolled": true
   },
   "outputs": [],
   "source": [
    "link_to_data = 'https://github.com/tulip-lab/sit742/raw/master/Assessment/2020/data/MCQResponses.csv'\n",
    "DataSet = wget.download(link_to_data)\n",
    "\n",
    "link_to_data = 'https://github.com/tulip-lab/sit742/raw/master/Assessment/2020/data/ConversionRates.csv'\n",
    "ConvDataSet = wget.download(link_to_data)\n",
    "\n",
    "link_to_data = 'https://github.com/tulip-lab/sit742/raw/master/Assessment/2020/data/JobPostings.csv'\n",
    "JobDataSet = wget.download(link_to_data)"
   ]
  },
  {
   "cell_type": "markdown",
   "metadata": {
    "colab_type": "text",
    "id": "xt84oidr-jof"
   },
   "source": [
    " <div class=\"alert alert-block alert-info\">\n",
    "\n",
    "**Code**: \n",
    "    You are required to load MCQResponses.csv into dataframe df_demog, and check the data statistics and general infommation by printing its top 5 rows.\n",
    "</div>"
   ]
  },
  {
   "cell_type": "code",
   "execution_count": 46,
   "metadata": {
    "colab": {
     "base_uri": "https://localhost:8080/",
     "height": 395
    },
    "colab_type": "code",
    "id": "Xl5VV8v4ot2N",
    "outputId": "34fb6c39-5e20-45a5-9b25-64ca4481296d"
   },
   "outputs": [
    {
     "data": {
      "text/html": [
       "<div>\n",
       "<style scoped>\n",
       "    .dataframe tbody tr th:only-of-type {\n",
       "        vertical-align: middle;\n",
       "    }\n",
       "\n",
       "    .dataframe tbody tr th {\n",
       "        vertical-align: top;\n",
       "    }\n",
       "\n",
       "    .dataframe thead th {\n",
       "        text-align: right;\n",
       "    }\n",
       "</style>\n",
       "<table border=\"1\" class=\"dataframe\">\n",
       "  <thead>\n",
       "    <tr style=\"text-align: right;\">\n",
       "      <th></th>\n",
       "      <th>Age</th>\n",
       "      <th>CompensationAmount</th>\n",
       "    </tr>\n",
       "  </thead>\n",
       "  <tbody>\n",
       "    <tr>\n",
       "      <th>count</th>\n",
       "      <td>4327.000000</td>\n",
       "      <td>4.327000e+03</td>\n",
       "    </tr>\n",
       "    <tr>\n",
       "      <th>mean</th>\n",
       "      <td>34.129651</td>\n",
       "      <td>2.891714e+06</td>\n",
       "    </tr>\n",
       "    <tr>\n",
       "      <th>std</th>\n",
       "      <td>9.476011</td>\n",
       "      <td>2.946122e+07</td>\n",
       "    </tr>\n",
       "    <tr>\n",
       "      <th>min</th>\n",
       "      <td>0.000000</td>\n",
       "      <td>1.090000e+01</td>\n",
       "    </tr>\n",
       "    <tr>\n",
       "      <th>25%</th>\n",
       "      <td>27.000000</td>\n",
       "      <td>5.000000e+04</td>\n",
       "    </tr>\n",
       "    <tr>\n",
       "      <th>50%</th>\n",
       "      <td>32.000000</td>\n",
       "      <td>1.000000e+05</td>\n",
       "    </tr>\n",
       "    <tr>\n",
       "      <th>75%</th>\n",
       "      <td>39.000000</td>\n",
       "      <td>2.200000e+05</td>\n",
       "    </tr>\n",
       "    <tr>\n",
       "      <th>max</th>\n",
       "      <td>99.000000</td>\n",
       "      <td>8.000000e+08</td>\n",
       "    </tr>\n",
       "  </tbody>\n",
       "</table>\n",
       "</div>"
      ],
      "text/plain": [
       "               Age  CompensationAmount\n",
       "count  4327.000000        4.327000e+03\n",
       "mean     34.129651        2.891714e+06\n",
       "std       9.476011        2.946122e+07\n",
       "min       0.000000        1.090000e+01\n",
       "25%      27.000000        5.000000e+04\n",
       "50%      32.000000        1.000000e+05\n",
       "75%      39.000000        2.200000e+05\n",
       "max      99.000000        8.000000e+08"
      ]
     },
     "execution_count": 46,
     "metadata": {},
     "output_type": "execute_result"
    }
   ],
   "source": [
    "# Your code\n",
    "from pandas import Series, DataFrame\n",
    "\n",
    "link_to_data = 'https://github.com/tulip-lab/sit742/raw/master/Assessment/2020/data/MCQResponses.csv'\n",
    "DataSet = wget.download(link_to_data)\n",
    "\n",
    "df_demog =  pd.read_csv(DataSet)\n",
    "df_demog.describe()"
   ]
  },
  {
   "cell_type": "code",
   "execution_count": 47,
   "metadata": {
    "colab": {
     "base_uri": "https://localhost:8080/",
     "height": 329
    },
    "colab_type": "code",
    "id": "AXyiiOEGot2a",
    "outputId": "7642a05c-2e78-4d78-8af5-5e7396e3169e"
   },
   "outputs": [
    {
     "data": {
      "text/html": [
       "<div>\n",
       "<style scoped>\n",
       "    .dataframe tbody tr th:only-of-type {\n",
       "        vertical-align: middle;\n",
       "    }\n",
       "\n",
       "    .dataframe tbody tr th {\n",
       "        vertical-align: top;\n",
       "    }\n",
       "\n",
       "    .dataframe thead th {\n",
       "        text-align: right;\n",
       "    }\n",
       "</style>\n",
       "<table border=\"1\" class=\"dataframe\">\n",
       "  <thead>\n",
       "    <tr style=\"text-align: right;\">\n",
       "      <th></th>\n",
       "      <th>GenderSelect</th>\n",
       "      <th>Country</th>\n",
       "      <th>Age</th>\n",
       "      <th>EmploymentStatus</th>\n",
       "      <th>CodeWriter</th>\n",
       "      <th>CurrentJobTitleSelect</th>\n",
       "      <th>TitleFit</th>\n",
       "      <th>CurrentEmployerType</th>\n",
       "      <th>MLToolNextYearSelect</th>\n",
       "      <th>MLMethodNextYearSelect</th>\n",
       "      <th>LanguageRecommendationSelect</th>\n",
       "      <th>FormalEducation</th>\n",
       "      <th>MajorSelect</th>\n",
       "      <th>FirstTrainingSelect</th>\n",
       "      <th>CompensationAmount</th>\n",
       "      <th>CompensationCurrency</th>\n",
       "      <th>JobSatisfaction</th>\n",
       "    </tr>\n",
       "  </thead>\n",
       "  <tbody>\n",
       "    <tr>\n",
       "      <th>0</th>\n",
       "      <td>Male</td>\n",
       "      <td>United States</td>\n",
       "      <td>56</td>\n",
       "      <td>Independent contractor, freelancer, or self-em...</td>\n",
       "      <td>Yes</td>\n",
       "      <td>Operations Research Practitioner</td>\n",
       "      <td>Poorly</td>\n",
       "      <td>Self-employed</td>\n",
       "      <td>TensorFlow</td>\n",
       "      <td>Neural Nets</td>\n",
       "      <td>Python</td>\n",
       "      <td>Master's degree</td>\n",
       "      <td>Mathematics or statistics</td>\n",
       "      <td>University courses</td>\n",
       "      <td>250000.0</td>\n",
       "      <td>USD</td>\n",
       "      <td>10 - Highly Satisfied</td>\n",
       "    </tr>\n",
       "    <tr>\n",
       "      <th>1</th>\n",
       "      <td>Female</td>\n",
       "      <td>Australia</td>\n",
       "      <td>43</td>\n",
       "      <td>Employed full-time</td>\n",
       "      <td>Yes</td>\n",
       "      <td>Business Analyst</td>\n",
       "      <td>Fine</td>\n",
       "      <td>Employed by non-profit or NGO</td>\n",
       "      <td>Microsoft Excel Data Mining</td>\n",
       "      <td>Link Analysis</td>\n",
       "      <td>Python</td>\n",
       "      <td>Bachelor's degree</td>\n",
       "      <td>NaN</td>\n",
       "      <td>Work</td>\n",
       "      <td>80000.0</td>\n",
       "      <td>AUD</td>\n",
       "      <td>7</td>\n",
       "    </tr>\n",
       "    <tr>\n",
       "      <th>2</th>\n",
       "      <td>Male</td>\n",
       "      <td>Russia</td>\n",
       "      <td>33</td>\n",
       "      <td>Employed full-time</td>\n",
       "      <td>Yes</td>\n",
       "      <td>Software Developer/Software Engineer</td>\n",
       "      <td>Fine</td>\n",
       "      <td>Employed by a company that doesn't perform adv...</td>\n",
       "      <td>C/C++</td>\n",
       "      <td>Deep learning</td>\n",
       "      <td>Python</td>\n",
       "      <td>Bachelor's degree</td>\n",
       "      <td>Other</td>\n",
       "      <td>Self-taught</td>\n",
       "      <td>1200000.0</td>\n",
       "      <td>RUB</td>\n",
       "      <td>7</td>\n",
       "    </tr>\n",
       "    <tr>\n",
       "      <th>3</th>\n",
       "      <td>Male</td>\n",
       "      <td>India</td>\n",
       "      <td>27</td>\n",
       "      <td>Employed full-time</td>\n",
       "      <td>Yes</td>\n",
       "      <td>Data Scientist</td>\n",
       "      <td>Fine</td>\n",
       "      <td>Employed by professional services/consulting f...</td>\n",
       "      <td>Other</td>\n",
       "      <td>Deep learning</td>\n",
       "      <td>Python</td>\n",
       "      <td>Bachelor's degree</td>\n",
       "      <td>Electrical Engineering</td>\n",
       "      <td>University courses</td>\n",
       "      <td>95000.0</td>\n",
       "      <td>INR</td>\n",
       "      <td>7</td>\n",
       "    </tr>\n",
       "    <tr>\n",
       "      <th>4</th>\n",
       "      <td>Male</td>\n",
       "      <td>Taiwan</td>\n",
       "      <td>26</td>\n",
       "      <td>Employed full-time</td>\n",
       "      <td>Yes</td>\n",
       "      <td>Software Developer/Software Engineer</td>\n",
       "      <td>Fine</td>\n",
       "      <td>Employed by professional services/consulting firm</td>\n",
       "      <td>TensorFlow</td>\n",
       "      <td>Deep learning</td>\n",
       "      <td>Python</td>\n",
       "      <td>Master's degree</td>\n",
       "      <td>Computer Science</td>\n",
       "      <td>Online courses (coursera, udemy, edx, etc.)</td>\n",
       "      <td>1100000.0</td>\n",
       "      <td>TWD</td>\n",
       "      <td>5</td>\n",
       "    </tr>\n",
       "  </tbody>\n",
       "</table>\n",
       "</div>"
      ],
      "text/plain": [
       "  GenderSelect        Country  Age  \\\n",
       "0         Male  United States   56   \n",
       "1       Female      Australia   43   \n",
       "2         Male         Russia   33   \n",
       "3         Male          India   27   \n",
       "4         Male         Taiwan   26   \n",
       "\n",
       "                                    EmploymentStatus CodeWriter  \\\n",
       "0  Independent contractor, freelancer, or self-em...        Yes   \n",
       "1                                 Employed full-time        Yes   \n",
       "2                                 Employed full-time        Yes   \n",
       "3                                 Employed full-time        Yes   \n",
       "4                                 Employed full-time        Yes   \n",
       "\n",
       "                  CurrentJobTitleSelect TitleFit  \\\n",
       "0      Operations Research Practitioner   Poorly   \n",
       "1                      Business Analyst     Fine   \n",
       "2  Software Developer/Software Engineer     Fine   \n",
       "3                        Data Scientist     Fine   \n",
       "4  Software Developer/Software Engineer     Fine   \n",
       "\n",
       "                                 CurrentEmployerType  \\\n",
       "0                                      Self-employed   \n",
       "1                      Employed by non-profit or NGO   \n",
       "2  Employed by a company that doesn't perform adv...   \n",
       "3  Employed by professional services/consulting f...   \n",
       "4  Employed by professional services/consulting firm   \n",
       "\n",
       "          MLToolNextYearSelect MLMethodNextYearSelect  \\\n",
       "0                   TensorFlow            Neural Nets   \n",
       "1  Microsoft Excel Data Mining          Link Analysis   \n",
       "2                        C/C++          Deep learning   \n",
       "3                        Other          Deep learning   \n",
       "4                   TensorFlow          Deep learning   \n",
       "\n",
       "  LanguageRecommendationSelect    FormalEducation                MajorSelect  \\\n",
       "0                       Python    Master's degree  Mathematics or statistics   \n",
       "1                       Python  Bachelor's degree                        NaN   \n",
       "2                       Python  Bachelor's degree                      Other   \n",
       "3                       Python  Bachelor's degree     Electrical Engineering   \n",
       "4                       Python    Master's degree           Computer Science   \n",
       "\n",
       "                           FirstTrainingSelect  CompensationAmount  \\\n",
       "0                           University courses            250000.0   \n",
       "1                                         Work             80000.0   \n",
       "2                                  Self-taught           1200000.0   \n",
       "3                           University courses             95000.0   \n",
       "4  Online courses (coursera, udemy, edx, etc.)           1100000.0   \n",
       "\n",
       "  CompensationCurrency        JobSatisfaction  \n",
       "0                  USD  10 - Highly Satisfied  \n",
       "1                  AUD                      7  \n",
       "2                  RUB                      7  \n",
       "3                  INR                      7  \n",
       "4                  TWD                      5  "
      ]
     },
     "execution_count": 47,
     "metadata": {},
     "output_type": "execute_result"
    }
   ],
   "source": [
    "# Your Code\n",
    "df_demog.head()\n"
   ]
  },
  {
   "cell_type": "markdown",
   "metadata": {
    "colab_type": "text",
    "id": "7gclqLjREEe7"
   },
   "source": [
    "<div class=\"alert alert-block alert-info\">\n",
    "\n",
    "**Code**: \n",
    "    Check which columns have NAs (don't remove them now), and for each of those columns, display how many records with values\n",
    "\n",
    "\n",
    "<div class=\"alert alert-block alert-warning\">\n",
    "    \n",
    "**Report**: \n",
    "    **1.0.A** Please include your result for this coding task into your report, with proper section title '1.0.A'.\n",
    "</div>\n",
    "    </div>\n",
    "\n",
    "\n"
   ]
  },
  {
   "cell_type": "code",
   "execution_count": 66,
   "metadata": {
    "colab": {
     "base_uri": "https://localhost:8080/",
     "height": 156
    },
    "colab_type": "code",
    "id": "jk5oshZLot2U",
    "outputId": "d600a287-7465-48f8-8d22-c8b56cf7fb61"
   },
   "outputs": [
    {
     "data": {
      "text/html": [
       "<div>\n",
       "<style scoped>\n",
       "    .dataframe tbody tr th:only-of-type {\n",
       "        vertical-align: middle;\n",
       "    }\n",
       "\n",
       "    .dataframe tbody tr th {\n",
       "        vertical-align: top;\n",
       "    }\n",
       "\n",
       "    .dataframe thead th {\n",
       "        text-align: right;\n",
       "    }\n",
       "</style>\n",
       "<table border=\"1\" class=\"dataframe\">\n",
       "  <thead>\n",
       "    <tr style=\"text-align: right;\">\n",
       "      <th></th>\n",
       "      <th>0</th>\n",
       "      <th>1</th>\n",
       "    </tr>\n",
       "  </thead>\n",
       "  <tbody>\n",
       "    <tr>\n",
       "      <th>GenderSelect</th>\n",
       "      <td>0</td>\n",
       "      <td>4327</td>\n",
       "    </tr>\n",
       "    <tr>\n",
       "      <th>Country</th>\n",
       "      <td>0</td>\n",
       "      <td>4327</td>\n",
       "    </tr>\n",
       "    <tr>\n",
       "      <th>Age</th>\n",
       "      <td>0</td>\n",
       "      <td>4327</td>\n",
       "    </tr>\n",
       "    <tr>\n",
       "      <th>EmploymentStatus</th>\n",
       "      <td>0</td>\n",
       "      <td>4327</td>\n",
       "    </tr>\n",
       "    <tr>\n",
       "      <th>CodeWriter</th>\n",
       "      <td>0</td>\n",
       "      <td>4327</td>\n",
       "    </tr>\n",
       "    <tr>\n",
       "      <th>CurrentJobTitleSelect</th>\n",
       "      <td>0</td>\n",
       "      <td>4327</td>\n",
       "    </tr>\n",
       "    <tr>\n",
       "      <th>TitleFit</th>\n",
       "      <td>76</td>\n",
       "      <td>4251</td>\n",
       "    </tr>\n",
       "    <tr>\n",
       "      <th>CurrentEmployerType</th>\n",
       "      <td>52</td>\n",
       "      <td>4275</td>\n",
       "    </tr>\n",
       "    <tr>\n",
       "      <th>MLToolNextYearSelect</th>\n",
       "      <td>121</td>\n",
       "      <td>4206</td>\n",
       "    </tr>\n",
       "    <tr>\n",
       "      <th>MLMethodNextYearSelect</th>\n",
       "      <td>157</td>\n",
       "      <td>4170</td>\n",
       "    </tr>\n",
       "    <tr>\n",
       "      <th>LanguageRecommendationSelect</th>\n",
       "      <td>99</td>\n",
       "      <td>4228</td>\n",
       "    </tr>\n",
       "    <tr>\n",
       "      <th>FormalEducation</th>\n",
       "      <td>0</td>\n",
       "      <td>4327</td>\n",
       "    </tr>\n",
       "    <tr>\n",
       "      <th>MajorSelect</th>\n",
       "      <td>375</td>\n",
       "      <td>3952</td>\n",
       "    </tr>\n",
       "    <tr>\n",
       "      <th>FirstTrainingSelect</th>\n",
       "      <td>3</td>\n",
       "      <td>4324</td>\n",
       "    </tr>\n",
       "    <tr>\n",
       "      <th>CompensationAmount</th>\n",
       "      <td>0</td>\n",
       "      <td>4327</td>\n",
       "    </tr>\n",
       "    <tr>\n",
       "      <th>CompensationCurrency</th>\n",
       "      <td>0</td>\n",
       "      <td>4327</td>\n",
       "    </tr>\n",
       "    <tr>\n",
       "      <th>JobSatisfaction</th>\n",
       "      <td>10</td>\n",
       "      <td>4317</td>\n",
       "    </tr>\n",
       "  </tbody>\n",
       "</table>\n",
       "</div>"
      ],
      "text/plain": [
       "                                0     1\n",
       "GenderSelect                    0  4327\n",
       "Country                         0  4327\n",
       "Age                             0  4327\n",
       "EmploymentStatus                0  4327\n",
       "CodeWriter                      0  4327\n",
       "CurrentJobTitleSelect           0  4327\n",
       "TitleFit                       76  4251\n",
       "CurrentEmployerType            52  4275\n",
       "MLToolNextYearSelect          121  4206\n",
       "MLMethodNextYearSelect        157  4170\n",
       "LanguageRecommendationSelect   99  4228\n",
       "FormalEducation                 0  4327\n",
       "MajorSelect                   375  3952\n",
       "FirstTrainingSelect             3  4324\n",
       "CompensationAmount              0  4327\n",
       "CompensationCurrency            0  4327\n",
       "JobSatisfaction                10  4317"
      ]
     },
     "execution_count": 66,
     "metadata": {},
     "output_type": "execute_result"
    }
   ],
   "source": [
    "# Your Code\n",
    "#this code counts the number of NULL and non-null values in each column\n",
    "nullSum = pd.DataFrame( [df_demog.isnull().sum(),df_demog.notnull().sum()])\n",
    "#this transposes the data to present better in the word document and outputs the data to a csv for easy copy paste\n",
    "#nullSum.transpose().to_csv('demog_null_sum.csv')\n",
    "nullSum.transpose()\n",
    "\n"
   ]
  },
  {
   "cell_type": "code",
   "execution_count": 8,
   "metadata": {},
   "outputs": [
    {
     "data": {
      "text/plain": [
       "GenderSelect                    4327\n",
       "Country                         4327\n",
       "Age                             4327\n",
       "EmploymentStatus                4327\n",
       "CodeWriter                      4327\n",
       "CurrentJobTitleSelect           4327\n",
       "TitleFit                        4251\n",
       "CurrentEmployerType             4275\n",
       "MLToolNextYearSelect            4206\n",
       "MLMethodNextYearSelect          4170\n",
       "LanguageRecommendationSelect    4228\n",
       "FormalEducation                 4327\n",
       "MajorSelect                     3952\n",
       "FirstTrainingSelect             4324\n",
       "CompensationAmount              4327\n",
       "CompensationCurrency            4327\n",
       "JobSatisfaction                 4317\n",
       "dtype: int64"
      ]
     },
     "execution_count": 8,
     "metadata": {},
     "output_type": "execute_result"
    }
   ],
   "source": [
    "df_demog.notnull().sum()\n",
    "#this code counts how many fields are not null in each column\n"
   ]
  },
  {
   "cell_type": "markdown",
   "metadata": {
    "colab_type": "text",
    "id": "MclqalahEVm-"
   },
   "source": [
    "<div class=\"alert alert-block alert-info\">\n",
    "\n",
    "**Code**: \n",
    "    Select the users whose current job title is 'Data Scientist', and store into variable df_demog_ds    \n",
    "\n",
    "<div class=\"alert alert-block alert-warning\">\n",
    "    \n",
    "**Report**: \n",
    "    **1.0.B** Please include your result of `how many Data Scientists?' into your report, with proper section title  '1.0.B'.\n",
    "</div>\n",
    "</div>\n",
    "\n",
    "\n"
   ]
  },
  {
   "cell_type": "code",
   "execution_count": 9,
   "metadata": {
    "colab": {
     "base_uri": "https://localhost:8080/",
     "height": 312
    },
    "colab_type": "code",
    "id": "sjdZZOc8ot2g",
    "outputId": "240ce3ed-46ea-4d85-e0c9-91cfd043e5da"
   },
   "outputs": [
    {
     "data": {
      "text/plain": [
       "1263"
      ]
     },
     "execution_count": 9,
     "metadata": {},
     "output_type": "execute_result"
    }
   ],
   "source": [
    "# Your code\n",
    "#store the rows where the job title is Data Scientist\n",
    "df_demog_ds = df_demog.loc[df_demog['CurrentJobTitleSelect']==\"Data Scientist\"]\n",
    "#count the number of data scientists\n",
    "df_demog_ds.CurrentJobTitleSelect.count()"
   ]
  },
  {
   "cell_type": "markdown",
   "metadata": {
    "_cell_guid": "3e161447-2816-45ec-872f-3a20da79c042",
    "_uuid": "d6bdc03f0c63a08754efc13378661dc986d2bcb8",
    "colab_type": "text",
    "id": "iuhutBLOot5O"
   },
   "source": [
    "### 1.1. Education\n",
    "<a id=\"education\"></a>\n",
    "***\n",
    "In data scientists job, education is important. Is it reasonable to ask data scientists to have a Master's or Doctoral degree? Let's find out. \n"
   ]
  },
  {
   "cell_type": "markdown",
   "metadata": {
    "colab_type": "text",
    "id": "yHyeeZvDot5Q"
   },
   "source": [
    "<div class=\"alert alert-block alert-info\">\n",
    "\n",
    "**Code**: \n",
    "    Plot and display as text output the number and percentage of data scientist with each type of formal education. \n",
    "\n",
    "<div class=\"alert alert-block alert-warning\">\n",
    "    \n",
    "**Report**: \n",
    "    **1.1.A** Please include your running result of this coding task into your report, with proper section title  '1.1.A'.\n",
    "</div>\n",
    "\n",
    "</div>"
   ]
  },
  {
   "cell_type": "code",
   "execution_count": 40,
   "metadata": {
    "colab": {
     "base_uri": "https://localhost:8080/",
     "height": 139
    },
    "colab_type": "code",
    "id": "lRXfdfvgot5S",
    "outputId": "0e75e2b5-4e61-4e9c-cb70-141484e5fd45"
   },
   "outputs": [
    {
     "data": {
      "text/plain": [
       "<matplotlib.axes._subplots.AxesSubplot at 0x1a0bc602e8>"
      ]
     },
     "execution_count": 40,
     "metadata": {},
     "output_type": "execute_result"
    },
    {
     "data": {
      "image/png": "[encoded data removed]",
      "text/plain": [
       "<Figure size 432x288 with 1 Axes>"
      ]
     },
     "metadata": {},
     "output_type": "display_data"
    },
    {
     "data": {
      "image/png": "[encoded data removed]",
      "text/plain": [
       "<Figure size 432x288 with 1 Axes>"
      ]
     },
     "metadata": {},
     "output_type": "display_data"
    }
   ],
   "source": [
    "# count bar plot\n",
    "df_demog_ds_edu = df_demog_ds.groupby('FormalEducation').count()[['CurrentJobTitleSelect']]\n",
    "df_demog_ds_edu.plot.barh(title=\"Count of Education Type for Data Scientists\")\n",
    "# percentage bar plot\n",
    "df_demog_ds_edu_perc = df_demog_ds.groupby('FormalEducation').count()[['CurrentJobTitleSelect']]/df_demog_ds.count()[['CurrentJobTitleSelect']]\n",
    "df_demog_ds_edu_perc.plot.barh(title=\"Precentage of Education Type for Data Scientists\")"
   ]
  },
  {
   "cell_type": "markdown",
   "metadata": {
    "_cell_guid": "551f7dba-71d3-4f77-8852-fce4f789d644",
    "_uuid": "31449fb18bfea68bb723b010b78dcab6c8fe5439",
    "colab_type": "text",
    "id": "K-yMEEFLot7P"
   },
   "source": [
    "### 1.2. Salary\n",
    "<a id=\"salary\"></a>\n",
    "\n",
    "Data science is considered a very well paying role, let's find out the salary information. Since all of the respondents did not come from one country, we can assume that they gave their salaries in their countries currency. We have filtered the data for you and provided exchange rates in a file called *ConversionRates.csv* which should already be imported. \n",
    "\n",
    "First of all, you need to merge the multiple choice data with the *ConversionRates.csv* by using the compensation currency and originCountry respectively. And then you will need to multiply the compensation amount with exchangeRateAUS to have the Australian dollors."
   ]
  },
  {
   "cell_type": "code",
   "execution_count": 78,
   "metadata": {
    "colab": {
     "base_uri": "https://localhost:8080/",
     "height": 202
    },
    "colab_type": "code",
    "id": "BZaQ7vykot7U",
    "outputId": "14523a49-5dec-454a-9704-328c60b7a173"
   },
   "outputs": [
    {
     "data": {
      "text/html": [
       "<div>\n",
       "<style scoped>\n",
       "    .dataframe tbody tr th:only-of-type {\n",
       "        vertical-align: middle;\n",
       "    }\n",
       "\n",
       "    .dataframe tbody tr th {\n",
       "        vertical-align: top;\n",
       "    }\n",
       "\n",
       "    .dataframe thead th {\n",
       "        text-align: right;\n",
       "    }\n",
       "</style>\n",
       "<table border=\"1\" class=\"dataframe\">\n",
       "  <thead>\n",
       "    <tr style=\"text-align: right;\">\n",
       "      <th></th>\n",
       "      <th>GenderSelect</th>\n",
       "      <th>Country</th>\n",
       "      <th>Age</th>\n",
       "      <th>EmploymentStatus</th>\n",
       "      <th>CodeWriter</th>\n",
       "      <th>CurrentJobTitleSelect</th>\n",
       "      <th>TitleFit</th>\n",
       "      <th>CurrentEmployerType</th>\n",
       "      <th>MLToolNextYearSelect</th>\n",
       "      <th>MLMethodNextYearSelect</th>\n",
       "      <th>...</th>\n",
       "      <th>FormalEducation</th>\n",
       "      <th>MajorSelect</th>\n",
       "      <th>FirstTrainingSelect</th>\n",
       "      <th>CompensationAmount</th>\n",
       "      <th>CompensationCurrency</th>\n",
       "      <th>JobSatisfaction</th>\n",
       "      <th>Unnamed: 0</th>\n",
       "      <th>originCountry</th>\n",
       "      <th>exchangeRate</th>\n",
       "      <th>exchangeRateAUS</th>\n",
       "    </tr>\n",
       "  </thead>\n",
       "  <tbody>\n",
       "    <tr>\n",
       "      <th>0</th>\n",
       "      <td>Male</td>\n",
       "      <td>India</td>\n",
       "      <td>27</td>\n",
       "      <td>Employed full-time</td>\n",
       "      <td>Yes</td>\n",
       "      <td>Data Scientist</td>\n",
       "      <td>Fine</td>\n",
       "      <td>Employed by professional services/consulting f...</td>\n",
       "      <td>Other</td>\n",
       "      <td>Deep learning</td>\n",
       "      <td>...</td>\n",
       "      <td>Bachelor's degree</td>\n",
       "      <td>Electrical Engineering</td>\n",
       "      <td>University courses</td>\n",
       "      <td>95000.0</td>\n",
       "      <td>INR</td>\n",
       "      <td>7</td>\n",
       "      <td>3</td>\n",
       "      <td>INR</td>\n",
       "      <td>0.015620</td>\n",
       "      <td>1483.90000</td>\n",
       "    </tr>\n",
       "    <tr>\n",
       "      <th>1</th>\n",
       "      <td>Male</td>\n",
       "      <td>India</td>\n",
       "      <td>29</td>\n",
       "      <td>Employed full-time</td>\n",
       "      <td>Yes</td>\n",
       "      <td>Data Scientist</td>\n",
       "      <td>Perfectly</td>\n",
       "      <td>Employed by a company that performs advanced a...</td>\n",
       "      <td>Python</td>\n",
       "      <td>Bayesian Methods</td>\n",
       "      <td>...</td>\n",
       "      <td>Master's degree</td>\n",
       "      <td>Computer Science</td>\n",
       "      <td>University courses</td>\n",
       "      <td>120000.0</td>\n",
       "      <td>INR</td>\n",
       "      <td>7</td>\n",
       "      <td>3</td>\n",
       "      <td>INR</td>\n",
       "      <td>0.015620</td>\n",
       "      <td>1874.40000</td>\n",
       "    </tr>\n",
       "    <tr>\n",
       "      <th>2</th>\n",
       "      <td>Male</td>\n",
       "      <td>India</td>\n",
       "      <td>25</td>\n",
       "      <td>Employed full-time</td>\n",
       "      <td>Yes</td>\n",
       "      <td>Data Scientist</td>\n",
       "      <td>Fine</td>\n",
       "      <td>Employed by a company that performs advanced a...</td>\n",
       "      <td>C/C++</td>\n",
       "      <td>Deep learning</td>\n",
       "      <td>...</td>\n",
       "      <td>Bachelor's degree</td>\n",
       "      <td>Other</td>\n",
       "      <td>Work</td>\n",
       "      <td>1200000.0</td>\n",
       "      <td>INR</td>\n",
       "      <td>8</td>\n",
       "      <td>3</td>\n",
       "      <td>INR</td>\n",
       "      <td>0.015620</td>\n",
       "      <td>18744.00000</td>\n",
       "    </tr>\n",
       "    <tr>\n",
       "      <th>3</th>\n",
       "      <td>Male</td>\n",
       "      <td>India</td>\n",
       "      <td>28</td>\n",
       "      <td>Employed full-time</td>\n",
       "      <td>Yes</td>\n",
       "      <td>Data Scientist</td>\n",
       "      <td>Fine</td>\n",
       "      <td>Employed by professional services/consulting firm</td>\n",
       "      <td>TensorFlow</td>\n",
       "      <td>Deep learning</td>\n",
       "      <td>...</td>\n",
       "      <td>Bachelor's degree</td>\n",
       "      <td>Electrical Engineering</td>\n",
       "      <td>University courses</td>\n",
       "      <td>1300000.0</td>\n",
       "      <td>INR</td>\n",
       "      <td>5</td>\n",
       "      <td>3</td>\n",
       "      <td>INR</td>\n",
       "      <td>0.015620</td>\n",
       "      <td>20306.00000</td>\n",
       "    </tr>\n",
       "    <tr>\n",
       "      <th>4</th>\n",
       "      <td>Male</td>\n",
       "      <td>India</td>\n",
       "      <td>31</td>\n",
       "      <td>Employed full-time</td>\n",
       "      <td>Yes</td>\n",
       "      <td>Data Scientist</td>\n",
       "      <td>Fine</td>\n",
       "      <td>Employed by a company that performs advanced a...</td>\n",
       "      <td>IBM Watson / Waton Analytics</td>\n",
       "      <td>Neural Nets</td>\n",
       "      <td>...</td>\n",
       "      <td>Master's degree</td>\n",
       "      <td>Engineering (non-computer focused)</td>\n",
       "      <td>Work</td>\n",
       "      <td>1400000.0</td>\n",
       "      <td>INR</td>\n",
       "      <td>7</td>\n",
       "      <td>3</td>\n",
       "      <td>INR</td>\n",
       "      <td>0.015620</td>\n",
       "      <td>21868.00000</td>\n",
       "    </tr>\n",
       "    <tr>\n",
       "      <th>...</th>\n",
       "      <td>...</td>\n",
       "      <td>...</td>\n",
       "      <td>...</td>\n",
       "      <td>...</td>\n",
       "      <td>...</td>\n",
       "      <td>...</td>\n",
       "      <td>...</td>\n",
       "      <td>...</td>\n",
       "      <td>...</td>\n",
       "      <td>...</td>\n",
       "      <td>...</td>\n",
       "      <td>...</td>\n",
       "      <td>...</td>\n",
       "      <td>...</td>\n",
       "      <td>...</td>\n",
       "      <td>...</td>\n",
       "      <td>...</td>\n",
       "      <td>...</td>\n",
       "      <td>...</td>\n",
       "      <td>...</td>\n",
       "      <td>...</td>\n",
       "    </tr>\n",
       "    <tr>\n",
       "      <th>1257</th>\n",
       "      <td>Male</td>\n",
       "      <td>Kenya</td>\n",
       "      <td>26</td>\n",
       "      <td>Employed full-time</td>\n",
       "      <td>Yes</td>\n",
       "      <td>Data Scientist</td>\n",
       "      <td>Perfectly</td>\n",
       "      <td>Employed by a company that performs advanced a...</td>\n",
       "      <td>Hadoop/Hive/Pig</td>\n",
       "      <td>Anomaly Detection</td>\n",
       "      <td>...</td>\n",
       "      <td>Bachelor's degree</td>\n",
       "      <td>Computer Science</td>\n",
       "      <td>Work</td>\n",
       "      <td>3000000.0</td>\n",
       "      <td>KES</td>\n",
       "      <td>9</td>\n",
       "      <td>37</td>\n",
       "      <td>KES</td>\n",
       "      <td>0.009726</td>\n",
       "      <td>29178.00000</td>\n",
       "    </tr>\n",
       "    <tr>\n",
       "      <th>1258</th>\n",
       "      <td>Male</td>\n",
       "      <td>Other</td>\n",
       "      <td>22</td>\n",
       "      <td>Independent contractor, freelancer, or self-em...</td>\n",
       "      <td>Yes</td>\n",
       "      <td>Data Scientist</td>\n",
       "      <td>Poorly</td>\n",
       "      <td>Employed by a company that performs advanced a...</td>\n",
       "      <td>Spark / MLlib</td>\n",
       "      <td>Time Series Analysis</td>\n",
       "      <td>...</td>\n",
       "      <td>Master's degree</td>\n",
       "      <td>Computer Science</td>\n",
       "      <td>Kaggle competitions</td>\n",
       "      <td>60000000.0</td>\n",
       "      <td>MGA</td>\n",
       "      <td>7</td>\n",
       "      <td>77</td>\n",
       "      <td>MGA</td>\n",
       "      <td>0.000338</td>\n",
       "      <td>20280.00000</td>\n",
       "    </tr>\n",
       "    <tr>\n",
       "      <th>1259</th>\n",
       "      <td>Male</td>\n",
       "      <td>Other</td>\n",
       "      <td>30</td>\n",
       "      <td>Employed full-time</td>\n",
       "      <td>Yes</td>\n",
       "      <td>Data Scientist</td>\n",
       "      <td>Fine</td>\n",
       "      <td>Employed by a company that performs advanced a...</td>\n",
       "      <td>Stan</td>\n",
       "      <td>Other</td>\n",
       "      <td>...</td>\n",
       "      <td>Master's degree</td>\n",
       "      <td>Mathematics or statistics</td>\n",
       "      <td>Self-taught</td>\n",
       "      <td>36.0</td>\n",
       "      <td>JOD</td>\n",
       "      <td>7</td>\n",
       "      <td>76</td>\n",
       "      <td>JOD</td>\n",
       "      <td>1.410620</td>\n",
       "      <td>50.78232</td>\n",
       "    </tr>\n",
       "    <tr>\n",
       "      <th>1260</th>\n",
       "      <td>Female</td>\n",
       "      <td>Other</td>\n",
       "      <td>34</td>\n",
       "      <td>Employed full-time</td>\n",
       "      <td>Yes</td>\n",
       "      <td>Data Scientist</td>\n",
       "      <td>Fine</td>\n",
       "      <td>Employed by professional services/consulting f...</td>\n",
       "      <td>Spark / MLlib</td>\n",
       "      <td>Deep learning</td>\n",
       "      <td>...</td>\n",
       "      <td>Master's degree</td>\n",
       "      <td>Mathematics or statistics</td>\n",
       "      <td>Online courses (coursera, udemy, edx, etc.)</td>\n",
       "      <td>160000.0</td>\n",
       "      <td>HRK</td>\n",
       "      <td>7</td>\n",
       "      <td>52</td>\n",
       "      <td>HRK</td>\n",
       "      <td>0.160606</td>\n",
       "      <td>25696.96000</td>\n",
       "    </tr>\n",
       "    <tr>\n",
       "      <th>1261</th>\n",
       "      <td>Male</td>\n",
       "      <td>Other</td>\n",
       "      <td>35</td>\n",
       "      <td>Employed full-time</td>\n",
       "      <td>Yes</td>\n",
       "      <td>Data Scientist</td>\n",
       "      <td>Perfectly</td>\n",
       "      <td>Employed by a company that performs advanced a...</td>\n",
       "      <td>C/C++</td>\n",
       "      <td>Genetic &amp; Evolutionary Algorithms</td>\n",
       "      <td>...</td>\n",
       "      <td>I did not complete any formal education past h...</td>\n",
       "      <td>NaN</td>\n",
       "      <td>Online courses (coursera, udemy, edx, etc.)</td>\n",
       "      <td>144000.0</td>\n",
       "      <td>HRK</td>\n",
       "      <td>8</td>\n",
       "      <td>52</td>\n",
       "      <td>HRK</td>\n",
       "      <td>0.160606</td>\n",
       "      <td>23127.26400</td>\n",
       "    </tr>\n",
       "  </tbody>\n",
       "</table>\n",
       "<p>1262 rows × 21 columns</p>\n",
       "</div>"
      ],
      "text/plain": [
       "     GenderSelect Country  Age  \\\n",
       "0            Male   India   27   \n",
       "1            Male   India   29   \n",
       "2            Male   India   25   \n",
       "3            Male   India   28   \n",
       "4            Male   India   31   \n",
       "...           ...     ...  ...   \n",
       "1257         Male   Kenya   26   \n",
       "1258         Male   Other   22   \n",
       "1259         Male   Other   30   \n",
       "1260       Female   Other   34   \n",
       "1261         Male   Other   35   \n",
       "\n",
       "                                       EmploymentStatus CodeWriter  \\\n",
       "0                                    Employed full-time        Yes   \n",
       "1                                    Employed full-time        Yes   \n",
       "2                                    Employed full-time        Yes   \n",
       "3                                    Employed full-time        Yes   \n",
       "4                                    Employed full-time        Yes   \n",
       "...                                                 ...        ...   \n",
       "1257                                 Employed full-time        Yes   \n",
       "1258  Independent contractor, freelancer, or self-em...        Yes   \n",
       "1259                                 Employed full-time        Yes   \n",
       "1260                                 Employed full-time        Yes   \n",
       "1261                                 Employed full-time        Yes   \n",
       "\n",
       "     CurrentJobTitleSelect   TitleFit  \\\n",
       "0           Data Scientist       Fine   \n",
       "1           Data Scientist  Perfectly   \n",
       "2           Data Scientist       Fine   \n",
       "3           Data Scientist       Fine   \n",
       "4           Data Scientist       Fine   \n",
       "...                    ...        ...   \n",
       "1257        Data Scientist  Perfectly   \n",
       "1258        Data Scientist     Poorly   \n",
       "1259        Data Scientist       Fine   \n",
       "1260        Data Scientist       Fine   \n",
       "1261        Data Scientist  Perfectly   \n",
       "\n",
       "                                    CurrentEmployerType  \\\n",
       "0     Employed by professional services/consulting f...   \n",
       "1     Employed by a company that performs advanced a...   \n",
       "2     Employed by a company that performs advanced a...   \n",
       "3     Employed by professional services/consulting firm   \n",
       "4     Employed by a company that performs advanced a...   \n",
       "...                                                 ...   \n",
       "1257  Employed by a company that performs advanced a...   \n",
       "1258  Employed by a company that performs advanced a...   \n",
       "1259  Employed by a company that performs advanced a...   \n",
       "1260  Employed by professional services/consulting f...   \n",
       "1261  Employed by a company that performs advanced a...   \n",
       "\n",
       "              MLToolNextYearSelect             MLMethodNextYearSelect  ...  \\\n",
       "0                            Other                      Deep learning  ...   \n",
       "1                           Python                   Bayesian Methods  ...   \n",
       "2                            C/C++                      Deep learning  ...   \n",
       "3                       TensorFlow                      Deep learning  ...   \n",
       "4     IBM Watson / Waton Analytics                        Neural Nets  ...   \n",
       "...                            ...                                ...  ...   \n",
       "1257               Hadoop/Hive/Pig                  Anomaly Detection  ...   \n",
       "1258                 Spark / MLlib               Time Series Analysis  ...   \n",
       "1259                          Stan                              Other  ...   \n",
       "1260                 Spark / MLlib                      Deep learning  ...   \n",
       "1261                         C/C++  Genetic & Evolutionary Algorithms  ...   \n",
       "\n",
       "                                        FormalEducation  \\\n",
       "0                                     Bachelor's degree   \n",
       "1                                       Master's degree   \n",
       "2                                     Bachelor's degree   \n",
       "3                                     Bachelor's degree   \n",
       "4                                       Master's degree   \n",
       "...                                                 ...   \n",
       "1257                                  Bachelor's degree   \n",
       "1258                                    Master's degree   \n",
       "1259                                    Master's degree   \n",
       "1260                                    Master's degree   \n",
       "1261  I did not complete any formal education past h...   \n",
       "\n",
       "                             MajorSelect  \\\n",
       "0                 Electrical Engineering   \n",
       "1                       Computer Science   \n",
       "2                                  Other   \n",
       "3                 Electrical Engineering   \n",
       "4     Engineering (non-computer focused)   \n",
       "...                                  ...   \n",
       "1257                    Computer Science   \n",
       "1258                    Computer Science   \n",
       "1259           Mathematics or statistics   \n",
       "1260           Mathematics or statistics   \n",
       "1261                                 NaN   \n",
       "\n",
       "                              FirstTrainingSelect CompensationAmount  \\\n",
       "0                              University courses            95000.0   \n",
       "1                              University courses           120000.0   \n",
       "2                                            Work          1200000.0   \n",
       "3                              University courses          1300000.0   \n",
       "4                                            Work          1400000.0   \n",
       "...                                           ...                ...   \n",
       "1257                                         Work          3000000.0   \n",
       "1258                          Kaggle competitions         60000000.0   \n",
       "1259                                  Self-taught               36.0   \n",
       "1260  Online courses (coursera, udemy, edx, etc.)           160000.0   \n",
       "1261  Online courses (coursera, udemy, edx, etc.)           144000.0   \n",
       "\n",
       "      CompensationCurrency JobSatisfaction Unnamed: 0  originCountry  \\\n",
       "0                      INR               7          3            INR   \n",
       "1                      INR               7          3            INR   \n",
       "2                      INR               8          3            INR   \n",
       "3                      INR               5          3            INR   \n",
       "4                      INR               7          3            INR   \n",
       "...                    ...             ...        ...            ...   \n",
       "1257                   KES               9         37            KES   \n",
       "1258                   MGA               7         77            MGA   \n",
       "1259                   JOD               7         76            JOD   \n",
       "1260                   HRK               7         52            HRK   \n",
       "1261                   HRK               8         52            HRK   \n",
       "\n",
       "     exchangeRate  exchangeRateAUS  \n",
       "0        0.015620       1483.90000  \n",
       "1        0.015620       1874.40000  \n",
       "2        0.015620      18744.00000  \n",
       "3        0.015620      20306.00000  \n",
       "4        0.015620      21868.00000  \n",
       "...           ...              ...  \n",
       "1257     0.009726      29178.00000  \n",
       "1258     0.000338      20280.00000  \n",
       "1259     1.410620         50.78232  \n",
       "1260     0.160606      25696.96000  \n",
       "1261     0.160606      23127.26400  \n",
       "\n",
       "[1262 rows x 21 columns]"
      ]
     },
     "execution_count": 78,
     "metadata": {},
     "output_type": "execute_result"
    }
   ],
   "source": [
    "# Your code\n",
    "df_demog =  pd.read_csv(ConvDataSet)\n",
    "#CompensationCurrency = originCountry\n",
    "#merge the datascience df with the currency exchange df\n",
    "df_demog_currency = pd.merge(df_demog_ds,df_demog,left_on='CompensationCurrency', right_on='originCountry')\n",
    "#create a new column with the AUS currency salary\n",
    "df_demog_currency = df_demog_currency.assign(exchangeRateAUS = df_demog_currency.CompensationAmount * df_demog_currency.exchangeRate)\n",
    "df_demog_currency"
   ]
  },
  {
   "cell_type": "markdown",
   "metadata": {
    "colab_type": "text",
    "id": "6MYDXU6dot7T"
   },
   "source": [
    "<div class=\"alert alert-block alert-info\">\n",
    "\n",
    "**Code**: \n",
    "Use the codes for each country to merge the files so that you can convert the salary data to Australian Dollars (AUD). Print out the maximum and median salary in AUD. Hint: think about what data type you have.\n",
    "    \n",
    "<div class=\"alert alert-block alert-warning\">\n",
    "    \n",
    "**Report**: \n",
    "    **1.2.A** In your report's section '1.2.A', answer what is the maximum and median salary in AUD.\n",
    "</div>\n",
    "\n",
    "\n",
    "</div>\n"
   ]
  },
  {
   "cell_type": "code",
   "execution_count": 42,
   "metadata": {
    "colab": {},
    "colab_type": "code",
    "id": "tyMNN-r3Jyjc"
   },
   "outputs": [
    {
     "data": {
      "text/html": [
       "<div>\n",
       "<style scoped>\n",
       "    .dataframe tbody tr th:only-of-type {\n",
       "        vertical-align: middle;\n",
       "    }\n",
       "\n",
       "    .dataframe tbody tr th {\n",
       "        vertical-align: top;\n",
       "    }\n",
       "\n",
       "    .dataframe thead th {\n",
       "        text-align: right;\n",
       "    }\n",
       "</style>\n",
       "<table border=\"1\" class=\"dataframe\">\n",
       "  <thead>\n",
       "    <tr style=\"text-align: right;\">\n",
       "      <th></th>\n",
       "      <th>max_salary (AUD)</th>\n",
       "      <th>median_salary (AUD)</th>\n",
       "    </tr>\n",
       "    <tr>\n",
       "      <th>originCountry</th>\n",
       "      <th></th>\n",
       "      <th></th>\n",
       "    </tr>\n",
       "  </thead>\n",
       "  <tbody>\n",
       "    <tr>\n",
       "      <th>AED</th>\n",
       "      <td>70786.56</td>\n",
       "      <td>70786.56</td>\n",
       "    </tr>\n",
       "    <tr>\n",
       "      <th>AFN</th>\n",
       "      <td>1457.00</td>\n",
       "      <td>1457.00</td>\n",
       "    </tr>\n",
       "    <tr>\n",
       "      <th>AMD</th>\n",
       "      <td>271.70</td>\n",
       "      <td>271.70</td>\n",
       "    </tr>\n",
       "    <tr>\n",
       "      <th>ARS</th>\n",
       "      <td>42664.12</td>\n",
       "      <td>22793.16</td>\n",
       "    </tr>\n",
       "    <tr>\n",
       "      <th>AUD</th>\n",
       "      <td>280808.50</td>\n",
       "      <td>115131.49</td>\n",
       "    </tr>\n",
       "    <tr>\n",
       "      <th>BRL</th>\n",
       "      <td>128540.00</td>\n",
       "      <td>35348.50</td>\n",
       "    </tr>\n",
       "    <tr>\n",
       "      <th>CAD</th>\n",
       "      <td>197685.12</td>\n",
       "      <td>80309.58</td>\n",
       "    </tr>\n",
       "    <tr>\n",
       "      <th>CHF</th>\n",
       "      <td>177374.94</td>\n",
       "      <td>135639.66</td>\n",
       "    </tr>\n",
       "    <tr>\n",
       "      <th>CLP</th>\n",
       "      <td>48180.00</td>\n",
       "      <td>24090.00</td>\n",
       "    </tr>\n",
       "    <tr>\n",
       "      <th>CNY</th>\n",
       "      <td>91800.00</td>\n",
       "      <td>55080.00</td>\n",
       "    </tr>\n",
       "    <tr>\n",
       "      <th>COP</th>\n",
       "      <td>53352.00</td>\n",
       "      <td>20520.00</td>\n",
       "    </tr>\n",
       "    <tr>\n",
       "      <th>CRC</th>\n",
       "      <td>517.80</td>\n",
       "      <td>517.80</td>\n",
       "    </tr>\n",
       "    <tr>\n",
       "      <th>CZK</th>\n",
       "      <td>64148.00</td>\n",
       "      <td>36656.00</td>\n",
       "    </tr>\n",
       "    <tr>\n",
       "      <th>DKK</th>\n",
       "      <td>102867.20</td>\n",
       "      <td>68310.25</td>\n",
       "    </tr>\n",
       "    <tr>\n",
       "      <th>EGP</th>\n",
       "      <td>16996.80</td>\n",
       "      <td>8739.19</td>\n",
       "    </tr>\n",
       "    <tr>\n",
       "      <th>EUR</th>\n",
       "      <td>263081.72</td>\n",
       "      <td>59791.30</td>\n",
       "    </tr>\n",
       "    <tr>\n",
       "      <th>GBP</th>\n",
       "      <td>595884.60</td>\n",
       "      <td>66209.40</td>\n",
       "    </tr>\n",
       "    <tr>\n",
       "      <th>GTQ</th>\n",
       "      <td>34231.50</td>\n",
       "      <td>34231.50</td>\n",
       "    </tr>\n",
       "    <tr>\n",
       "      <th>HKD</th>\n",
       "      <td>58239.09</td>\n",
       "      <td>32127.50</td>\n",
       "    </tr>\n",
       "    <tr>\n",
       "      <th>HRK</th>\n",
       "      <td>25696.96</td>\n",
       "      <td>24412.11</td>\n",
       "    </tr>\n",
       "    <tr>\n",
       "      <th>HUF</th>\n",
       "      <td>58440.00</td>\n",
       "      <td>13090.56</td>\n",
       "    </tr>\n",
       "    <tr>\n",
       "      <th>IDR</th>\n",
       "      <td>40280.00</td>\n",
       "      <td>7486.00</td>\n",
       "    </tr>\n",
       "    <tr>\n",
       "      <th>ILS</th>\n",
       "      <td>135827.52</td>\n",
       "      <td>74705.14</td>\n",
       "    </tr>\n",
       "    <tr>\n",
       "      <th>INR</th>\n",
       "      <td>78100.00</td>\n",
       "      <td>15620.00</td>\n",
       "    </tr>\n",
       "    <tr>\n",
       "      <th>IRR</th>\n",
       "      <td>12000.00</td>\n",
       "      <td>2400.00</td>\n",
       "    </tr>\n",
       "    <tr>\n",
       "      <th>JOD</th>\n",
       "      <td>50.78</td>\n",
       "      <td>50.78</td>\n",
       "    </tr>\n",
       "    <tr>\n",
       "      <th>JPY</th>\n",
       "      <td>136620.00</td>\n",
       "      <td>70587.00</td>\n",
       "    </tr>\n",
       "    <tr>\n",
       "      <th>KES</th>\n",
       "      <td>29178.00</td>\n",
       "      <td>29178.00</td>\n",
       "    </tr>\n",
       "    <tr>\n",
       "      <th>KRW</th>\n",
       "      <td>26580.00</td>\n",
       "      <td>18074.40</td>\n",
       "    </tr>\n",
       "    <tr>\n",
       "      <th>LKR</th>\n",
       "      <td>522.88</td>\n",
       "      <td>522.88</td>\n",
       "    </tr>\n",
       "    <tr>\n",
       "      <th>MAD</th>\n",
       "      <td>12849.12</td>\n",
       "      <td>12849.12</td>\n",
       "    </tr>\n",
       "    <tr>\n",
       "      <th>MGA</th>\n",
       "      <td>20280.00</td>\n",
       "      <td>20280.00</td>\n",
       "    </tr>\n",
       "    <tr>\n",
       "      <th>MXN</th>\n",
       "      <td>72532.33</td>\n",
       "      <td>25386.30</td>\n",
       "    </tr>\n",
       "    <tr>\n",
       "      <th>MYR</th>\n",
       "      <td>40185.83</td>\n",
       "      <td>18975.32</td>\n",
       "    </tr>\n",
       "    <tr>\n",
       "      <th>NGN</th>\n",
       "      <td>25092.00</td>\n",
       "      <td>12615.70</td>\n",
       "    </tr>\n",
       "    <tr>\n",
       "      <th>NOK</th>\n",
       "      <td>114751.80</td>\n",
       "      <td>101045.34</td>\n",
       "    </tr>\n",
       "    <tr>\n",
       "      <th>NZD</th>\n",
       "      <td>87336.12</td>\n",
       "      <td>70960.60</td>\n",
       "    </tr>\n",
       "    <tr>\n",
       "      <th>PHP</th>\n",
       "      <td>19637.00</td>\n",
       "      <td>2945.55</td>\n",
       "    </tr>\n",
       "    <tr>\n",
       "      <th>PKR</th>\n",
       "      <td>39799.20</td>\n",
       "      <td>9096.96</td>\n",
       "    </tr>\n",
       "    <tr>\n",
       "      <th>PLN</th>\n",
       "      <td>56220.80</td>\n",
       "      <td>32326.96</td>\n",
       "    </tr>\n",
       "    <tr>\n",
       "      <th>RON</th>\n",
       "      <td>16897.66</td>\n",
       "      <td>14298.02</td>\n",
       "    </tr>\n",
       "    <tr>\n",
       "      <th>RUB</th>\n",
       "      <td>62647.20</td>\n",
       "      <td>6786.78</td>\n",
       "    </tr>\n",
       "    <tr>\n",
       "      <th>SEK</th>\n",
       "      <td>106423.40</td>\n",
       "      <td>87642.80</td>\n",
       "    </tr>\n",
       "    <tr>\n",
       "      <th>SGD</th>\n",
       "      <td>222776.70</td>\n",
       "      <td>66833.01</td>\n",
       "    </tr>\n",
       "    <tr>\n",
       "      <th>SZL</th>\n",
       "      <td>9240.24</td>\n",
       "      <td>9240.24</td>\n",
       "    </tr>\n",
       "    <tr>\n",
       "      <th>THB</th>\n",
       "      <td>90576.00</td>\n",
       "      <td>45288.00</td>\n",
       "    </tr>\n",
       "    <tr>\n",
       "      <th>TRY</th>\n",
       "      <td>24509.52</td>\n",
       "      <td>17506.80</td>\n",
       "    </tr>\n",
       "    <tr>\n",
       "      <th>TWD</th>\n",
       "      <td>66608.00</td>\n",
       "      <td>33304.00</td>\n",
       "    </tr>\n",
       "    <tr>\n",
       "      <th>UAH</th>\n",
       "      <td>32229.12</td>\n",
       "      <td>11510.40</td>\n",
       "    </tr>\n",
       "    <tr>\n",
       "      <th>USD</th>\n",
       "      <td>400000.00</td>\n",
       "      <td>115000.00</td>\n",
       "    </tr>\n",
       "    <tr>\n",
       "      <th>XOF</th>\n",
       "      <td>2187.60</td>\n",
       "      <td>2187.60</td>\n",
       "    </tr>\n",
       "    <tr>\n",
       "      <th>ZAR</th>\n",
       "      <td>100102.60</td>\n",
       "      <td>45046.17</td>\n",
       "    </tr>\n",
       "  </tbody>\n",
       "</table>\n",
       "</div>"
      ],
      "text/plain": [
       "               max_salary (AUD)  median_salary (AUD)\n",
       "originCountry                                       \n",
       "AED                    70786.56             70786.56\n",
       "AFN                     1457.00              1457.00\n",
       "AMD                      271.70               271.70\n",
       "ARS                    42664.12             22793.16\n",
       "AUD                   280808.50            115131.49\n",
       "BRL                   128540.00             35348.50\n",
       "CAD                   197685.12             80309.58\n",
       "CHF                   177374.94            135639.66\n",
       "CLP                    48180.00             24090.00\n",
       "CNY                    91800.00             55080.00\n",
       "COP                    53352.00             20520.00\n",
       "CRC                      517.80               517.80\n",
       "CZK                    64148.00             36656.00\n",
       "DKK                   102867.20             68310.25\n",
       "EGP                    16996.80              8739.19\n",
       "EUR                   263081.72             59791.30\n",
       "GBP                   595884.60             66209.40\n",
       "GTQ                    34231.50             34231.50\n",
       "HKD                    58239.09             32127.50\n",
       "HRK                    25696.96             24412.11\n",
       "HUF                    58440.00             13090.56\n",
       "IDR                    40280.00              7486.00\n",
       "ILS                   135827.52             74705.14\n",
       "INR                    78100.00             15620.00\n",
       "IRR                    12000.00              2400.00\n",
       "JOD                       50.78                50.78\n",
       "JPY                   136620.00             70587.00\n",
       "KES                    29178.00             29178.00\n",
       "KRW                    26580.00             18074.40\n",
       "LKR                      522.88               522.88\n",
       "MAD                    12849.12             12849.12\n",
       "MGA                    20280.00             20280.00\n",
       "MXN                    72532.33             25386.30\n",
       "MYR                    40185.83             18975.32\n",
       "NGN                    25092.00             12615.70\n",
       "NOK                   114751.80            101045.34\n",
       "NZD                    87336.12             70960.60\n",
       "PHP                    19637.00              2945.55\n",
       "PKR                    39799.20              9096.96\n",
       "PLN                    56220.80             32326.96\n",
       "RON                    16897.66             14298.02\n",
       "RUB                    62647.20              6786.78\n",
       "SEK                   106423.40             87642.80\n",
       "SGD                   222776.70             66833.01\n",
       "SZL                     9240.24              9240.24\n",
       "THB                    90576.00             45288.00\n",
       "TRY                    24509.52             17506.80\n",
       "TWD                    66608.00             33304.00\n",
       "UAH                    32229.12             11510.40\n",
       "USD                   400000.00            115000.00\n",
       "XOF                     2187.60              2187.60\n",
       "ZAR                   100102.60             45046.17"
      ]
     },
     "execution_count": 42,
     "metadata": {},
     "output_type": "execute_result"
    }
   ],
   "source": [
    "# find the maximum and median value for each salary and round to two decimal places\n",
    "max_med = pd.merge(df_demog_currency.groupby('originCountry')['exchangeRateAUS'].max().round(2),df_demog_currency.groupby('originCountry')['exchangeRateAUS'].median().round(2),left_on='originCountry', right_on='originCountry')\n",
    "#rename the columns to make it look real nice\n",
    "max_med.rename(columns={\"exchangeRateAUS_x\": \"max_salary (AUD)\", \"exchangeRateAUS_y\": \"median_salary (AUD)\" })"
   ]
  },
  {
   "cell_type": "code",
   "execution_count": null,
   "metadata": {
    "colab": {
     "base_uri": "https://localhost:8080/",
     "height": 173
    },
    "colab_type": "code",
    "id": "nA9JygJ2ot7v",
    "outputId": "2161e2cb-8d38-4a04-d207-48e1004411d5"
   },
   "outputs": [],
   "source": [
    "# Your code\n"
   ]
  },
  {
   "cell_type": "markdown",
   "metadata": {
    "colab_type": "text",
    "id": "kAtIFQgxMcR9"
   },
   "source": [
    "<div class=\"alert alert-block alert-info\">\n",
    "\n",
    "**Code**: \n",
    "Plot a boxplot of the Australian respondents salary distribution. Print out the maximum and median salaries for Australian repsondnts.\n",
    "\n",
    "    \n",
    "<div class=\"alert alert-block alert-warning\">\n",
    "    \n",
    "**Report**: \n",
    "    **1.2.B** In your report's section '1.2.B', answer what is the maximum and median salary in AUD for Australian respondents, and also include your plotted boxplot of this coding task into your report. \n",
    "</div>\n",
    "\n",
    "\n",
    "</div>\n"
   ]
  },
  {
   "cell_type": "code",
   "execution_count": 128,
   "metadata": {
    "colab": {
     "base_uri": "https://localhost:8080/",
     "height": 301
    },
    "colab_type": "code",
    "id": "44a4HBqvMb_N",
    "outputId": "7ca7de86-0fb6-420d-ada5-386a26c36ee2"
   },
   "outputs": [
    {
     "name": "stdout",
     "output_type": "stream",
     "text": [
      "The Maximum salary in Australia is: $280808.5 . The median salary in australia is $115131.48500000002 \n"
     ]
    },
    {
     "data": {
      "image/png": "[encoded data removed]",
      "text/plain": [
       "<Figure size 432x288 with 1 Axes>"
      ]
     },
     "metadata": {},
     "output_type": "display_data"
    }
   ],
   "source": [
    "plt.title(\"Boxplot of salary on Australia\")\n",
    "#df_demog_currency[df_demog_currency.originCountry == 'AUD'].exchangeRateAUS.plot.box()\n",
    "ausSalary = df_demog_currency[df_demog_currency.originCountry == 'AUD'].exchangeRateAUS\n",
    "sns.boxplot(ausSalary, showfliers=True, palette=\"Set3\", width=0.5)\n",
    "\n",
    "AusMax = df_demog_currency[df_demog_currency.originCountry == 'AUD'].exchangeRateAUS.max()\n",
    "AusMed = df_demog_currency[df_demog_currency.originCountry == 'AUD'].exchangeRateAUS.median()\n",
    "\n",
    "print(\"The Maximum salary in Australia is: ${} . The median salary in australia is ${} \".format(AusMax, AusMed) )\n",
    "\n"
   ]
  },
  {
   "cell_type": "code",
   "execution_count": 129,
   "metadata": {
    "colab": {
     "base_uri": "https://localhost:8080/",
     "height": 173
    },
    "colab_type": "code",
    "id": "RZDQMRRfMbSl",
    "outputId": "b02aa5ee-ccfa-4d03-8d99-d3387ac74f90"
   },
   "outputs": [],
   "source": [
    "# Your code\n",
    "\n"
   ]
  },
  {
   "cell_type": "markdown",
   "metadata": {
    "colab_type": "text",
    "id": "b5TQQt_1LSG2"
   },
   "source": [
    "<div class=\"alert alert-block alert-info\">\n",
    "\n",
    "**Code**: \n",
    "There are some outliers in the Australian salary plot. You are required to filter the salary of Australian respondents by removing any below 40,000 or above 250,000. \n",
    "\n",
    "    \n",
    "<div class=\"alert alert-block alert-warning\">\n",
    "    \n",
    "**Report**: \n",
    "    **1.2.C** In your report's section '1.2.C', answer what is the new maximum and median salary in AUD for Australian respondents after filtering, and also include your plotted boxplot of this coding task into your report. \n",
    "</div>\n",
    "\n",
    "\n",
    "</div>\n"
   ]
  },
  {
   "cell_type": "code",
   "execution_count": 135,
   "metadata": {
    "colab": {
     "base_uri": "https://localhost:8080/",
     "height": 173
    },
    "colab_type": "code",
    "id": "2OCbrDb9MUdb",
    "outputId": "cac625f8-363e-439b-af04-cbf0e54fb2d1"
   },
   "outputs": [
    {
     "name": "stdout",
     "output_type": "stream",
     "text": [
      "After removing outliers the max salary is $232669.90000000002 and the mdeian salary is $117939.57\n"
     ]
    }
   ],
   "source": [
    "# your code\n",
    "#ausSalary = df_demog_currency[df_demog_currency.originCountry == 'AUD'].exchangeRateAUS\n",
    "NewAusSalary = ausSalary[ausSalary.between(40000,250000)]\n",
    "\n",
    "NewAusMax = NewAusSalary.max()\n",
    "NewAusMed = NewAusSalary.median()\n",
    "\n",
    "print(\"After removing outliers the max salary is ${} and the median salary is ${}\".format(NewAusMax, NewAusMed))"
   ]
  },
  {
   "cell_type": "code",
   "execution_count": 136,
   "metadata": {
    "colab": {
     "base_uri": "https://localhost:8080/",
     "height": 301
    },
    "colab_type": "code",
    "id": "iDkjx7H1NhAj",
    "outputId": "fcef345c-3a9b-4897-927a-be05810b6d02"
   },
   "outputs": [
    {
     "data": {
      "text/plain": [
       "<matplotlib.axes._subplots.AxesSubplot at 0x1a17715898>"
      ]
     },
     "execution_count": 136,
     "metadata": {},
     "output_type": "execute_result"
    },
    {
     "data": {
      "image/png": "[encoded data removed]",
      "text/plain": [
       "<Figure size 432x288 with 1 Axes>"
      ]
     },
     "metadata": {},
     "output_type": "display_data"
    }
   ],
   "source": [
    "plt.title(\"Boxplot of filtered salary on Australia\")\n",
    "\n",
    "# Your code\n",
    "sns.boxplot(NewAusSalary, showfliers=True, palette=\"Set3\", width=0.5)"
   ]
  },
  {
   "cell_type": "markdown",
   "metadata": {
    "_cell_guid": "06c9b38b-000e-4b8a-95f0-65a93bb332f2",
    "_uuid": "2bfa8ca86a226c9900a67a02236a072274bc0d18",
    "colab_type": "text",
    "id": "WL_oOonnot2l"
   },
   "source": [
    "### 1.3. Exploring the data scientist Demographics\n",
    "<a id=\"demographics\"></a>\n",
    "***\n",
    "\n",
    "#### 1.3.1 Age\n",
    "<a id=\"age\"></a>\n",
    "You will need to build a boxplot to explore the age of all data scientists. \n",
    "Your plot must have a label for each axis, a tittle and also show the outliers."
   ]
  },
  {
   "cell_type": "code",
   "execution_count": null,
   "metadata": {
    "colab": {
     "base_uri": "https://localhost:8080/",
     "height": 301
    },
    "colab_type": "code",
    "id": "3qi9JyJHot2o",
    "outputId": "a4a60cbe-b15a-4b71-c3fe-64027b81bb62"
   },
   "outputs": [],
   "source": [
    "plt.title(\"Boxplot of Age\")\n",
    "\n",
    "ax = sns.boxplot(x=df_demog_ds[\"Age\"])"
   ]
  },
  {
   "cell_type": "markdown",
   "metadata": {
    "colab_type": "text",
    "id": "sQEUpSEOot2u"
   },
   "source": [
    "<div class=\"alert alert-block alert-info\">\n",
    "\n",
    "**Code**: \n",
    "        <ol>\n",
    "        <li> Calculate the five descriptive statistics for age as shown on the boxplot, as well as the mean. Please round your mean to integer.</li>\n",
    "        <li> Regardless of the errors that the data show, we are interested in working-age data scientists, how many aged between 24 and 60. </li>\n",
    "        <li> How many respondents were under 18?</li>\n",
    "    </ol>\n",
    "    \n",
    "\n",
    "    \n",
    "<div class=\"alert alert-block alert-warning\">\n",
    "    \n",
    "**Report**: \n",
    "    **1.3.A** In your report's section '1.3.A', answer \n",
    "        <ol>\n",
    "        <li> What is the mean age? </li>\n",
    "        <li> What is the median age? </li>\n",
    "        <li> how many data scientists aged between 24 and 60</li>\n",
    "        <li> how many respondents were under 18? </li>\n",
    "    </ol>\n",
    "    \n",
    "</div>\n",
    "\n",
    "\n",
    "</div>\n",
    "\n",
    "\n",
    "\n",
    "\n",
    "\n"
   ]
  },
  {
   "cell_type": "code",
   "execution_count": null,
   "metadata": {
    "colab": {
     "base_uri": "https://localhost:8080/",
     "height": 173
    },
    "colab_type": "code",
    "id": "NYdZjpklot2w",
    "outputId": "ff7d04f8-64e4-4f34-cf43-caa7588d7ed3"
   },
   "outputs": [],
   "source": [
    "# Your code\n"
   ]
  },
  {
   "cell_type": "code",
   "execution_count": null,
   "metadata": {
    "colab": {
     "base_uri": "https://localhost:8080/",
     "height": 35
    },
    "colab_type": "code",
    "id": "ngjxIviIot21",
    "outputId": "97a924af-e98b-4681-f6f0-c8aa303e5a09"
   },
   "outputs": [],
   "source": [
    "# Your code\n",
    "\n"
   ]
  },
  {
   "cell_type": "code",
   "execution_count": null,
   "metadata": {
    "colab": {
     "base_uri": "https://localhost:8080/",
     "height": 35
    },
    "colab_type": "code",
    "id": "bW7mnijvJyj1",
    "outputId": "53ddc018-37ad-4dff-d1ca-6946897e7e98"
   },
   "outputs": [],
   "source": [
    "# Your code\n",
    "\n"
   ]
  },
  {
   "cell_type": "code",
   "execution_count": null,
   "metadata": {
    "colab": {
     "base_uri": "https://localhost:8080/",
     "height": 35
    },
    "colab_type": "code",
    "id": "RxcGZ97Uot3M",
    "outputId": "41415243-6be8-48c4-87e7-f98f7a46e1e7"
   },
   "outputs": [],
   "source": [
    "# Your code: How many data scientsits aged between 24 and 60\n",
    "\n"
   ]
  },
  {
   "cell_type": "code",
   "execution_count": null,
   "metadata": {
    "colab": {
     "base_uri": "https://localhost:8080/",
     "height": 35
    },
    "colab_type": "code",
    "id": "3fehgZuEJyj8",
    "outputId": "ab079e51-749e-460c-e4d9-a5c23a514ede"
   },
   "outputs": [],
   "source": [
    "# Your Code: how many respondents under 18?\n"
   ]
  },
  {
   "cell_type": "markdown",
   "metadata": {
    "colab_type": "text",
    "id": "c-al5HYdot3W"
   },
   "source": [
    "#### 1.3.2 Gender\n",
    "<a id=\"gender\"></a>\n",
    "We are interested in the gender of respondents. Nowadays, the gender equity is important for companies and organizations. \n"
   ]
  },
  {
   "cell_type": "markdown",
   "metadata": {
    "_cell_guid": "4b0c5cbc-a703-4b39-95bd-510f07ece6c0",
    "_uuid": "214cae932a19a586e341914443aa89e62009e6c4",
    "colab_type": "text",
    "id": "aVdtFL5wot3Y"
   },
   "source": [
    "<div class=\"alert alert-block alert-info\">\n",
    "\n",
    "**Code**: \n",
    "Plot the gender distribution of the data scientist users using a Barchart. \n",
    "</div>\n"
   ]
  },
  {
   "cell_type": "code",
   "execution_count": null,
   "metadata": {
    "colab": {
     "base_uri": "https://localhost:8080/",
     "height": 301
    },
    "colab_type": "code",
    "id": "OcKUWzqqot3Z",
    "outputId": "401bc6aa-291d-4808-86f2-17994f8e8ef2"
   },
   "outputs": [],
   "source": [
    "plt.title(\"Boxplot of Gender\")\n",
    "\n",
    "# Your code\n"
   ]
  },
  {
   "cell_type": "markdown",
   "metadata": {},
   "source": [
    "Now let's see if any relationship between gender and age\n",
    "\n",
    "Create a box plot showing the age of all the data scientists according to gender (men, women and other identity)."
   ]
  },
  {
   "cell_type": "code",
   "execution_count": null,
   "metadata": {
    "colab": {
     "base_uri": "https://localhost:8080/",
     "height": 301
    },
    "colab_type": "code",
    "id": "fLPvkJt2ot30",
    "outputId": "dac6f3ae-67cf-49f1-8132-ecd33346f476"
   },
   "outputs": [],
   "source": [
    "plt.title(\"Boxplot of Age with GenderSelect\")\n",
    "\n",
    "# Your code here"
   ]
  },
  {
   "cell_type": "markdown",
   "metadata": {
    "colab_type": "text",
    "id": "MQb_Obrpot3e"
   },
   "source": [
    "<div class=\"alert alert-block alert-info\">\n",
    "\n",
    "**Code**: \n",
    "You are required to use the barchart to show the percentage of men, women and other identity.\n",
    "    \n",
    "    \n",
    "<div class=\"alert alert-block alert-warning\">\n",
    "    \n",
    "**Report**: \n",
    "    **1.3.B** In your report's section '1.3.B', include the bar chart generated from your code.\n",
    "</div>\n",
    "    \n",
    "\n",
    "</div>"
   ]
  },
  {
   "cell_type": "code",
   "execution_count": null,
   "metadata": {
    "colab": {
     "base_uri": "https://localhost:8080/",
     "height": 518
    },
    "colab_type": "code",
    "id": "H0tU0cJLot3h",
    "outputId": "dcd0fa35-7839-4d84-c472-4f3d79721bf8"
   },
   "outputs": [],
   "source": [
    "plt.figure(figsize=(12,8))\n",
    "plt.title('Distribution of Gender')\n",
    "plt.xlabel('Gender Select')\n",
    "plt.ylabel('Percentage [%]')\n",
    "\n",
    "# Your code\n",
    " "
   ]
  },
  {
   "cell_type": "markdown",
   "metadata": {
    "colab_type": "text",
    "id": "ohxh7aPWot4G"
   },
   "source": [
    "#### 1.3.3 Country\n",
    "<a id=\"country\"></a>\n",
    "The data scientists are working all over the world. The United States is regarded the largest data science community. India, China and some other countries are also having a fast growing recently. Is this true? Let's find out."
   ]
  },
  {
   "cell_type": "markdown",
   "metadata": {
    "colab_type": "text",
    "id": "gcW1HPZlot4J"
   },
   "source": [
    "<div class=\"alert alert-block alert-info\">\n",
    "\n",
    "**Code**: \n",
    "Find the top 5 countries of data scientists.\n",
    "    \n",
    "<div class=\"alert alert-block alert-warning\">\n",
    "    \n",
    "**Report**: \n",
    "    **1.3.C** In your report's section '1.3.C', answer what are those top 5 countries and their corresponding number of data scienists\n",
    "</div>\n",
    "    \n",
    "\n",
    "</div>"
   ]
  },
  {
   "cell_type": "code",
   "execution_count": null,
   "metadata": {
    "colab": {
     "base_uri": "https://localhost:8080/",
     "height": 202
    },
    "colab_type": "code",
    "id": "e14ly826ot4L",
    "outputId": "4b766db4-8f1b-490a-9c4a-5a361bd7071a"
   },
   "outputs": [],
   "source": [
    "# Your Code: create and fill value into df_country\n",
    "\n"
   ]
  },
  {
   "cell_type": "code",
   "execution_count": null,
   "metadata": {
    "_cell_guid": "f3da614f-96e2-45d1-ba78-9d08a58fa136",
    "_kg_hide-input": true,
    "_uuid": "34afcf67184929a6de8358a13a961d0b9ad25b6c",
    "colab": {
     "base_uri": "https://localhost:8080/",
     "height": 678
    },
    "colab_type": "code",
    "id": "4NfzLajkot4X",
    "outputId": "5eaf1aee-0581-4b25-b26f-a61ae5d7c53c"
   },
   "outputs": [],
   "source": [
    "# Show the Boxplot of country\n"
   ]
  },
  {
   "cell_type": "markdown",
   "metadata": {
    "colab_type": "text",
    "id": "t8LLns9IJykS"
   },
   "source": [
    "<div class=\"alert alert-block alert-info\">\n",
    "\n",
    "**Code**: \n",
    "Generate the distribution of top 5 countries of data scientists, using percentage barchart. You can not mannually input the name of top 5 countries (your code should not contain any name of the top 5 countries), and you are required to use python subset functions or many other functions.\n",
    "    \n",
    "<div class=\"alert alert-block alert-warning\">\n",
    "    \n",
    "**Report**: \n",
    "    **1.3.D** In your report's section '1.3.D', including the percentage barchart of those top 5 countries.\n",
    "</div>\n",
    "    \n",
    "\n",
    "</div>"
   ]
  },
  {
   "cell_type": "code",
   "execution_count": null,
   "metadata": {
    "colab": {
     "base_uri": "https://localhost:8080/",
     "height": 518
    },
    "colab_type": "code",
    "id": "M1g1CA3_ot4l",
    "outputId": "af7a5eef-7396-459e-ecf8-69d9f9f6ea6c"
   },
   "outputs": [],
   "source": [
    "#percentage\n",
    "plt.figure(figsize=(12,8))\n",
    "plt.title('Distribution of Top 5 country with data scientist count')\n",
    "plt.xlabel('Country')\n",
    "plt.ylabel('Percentage [%]')\n",
    "\n",
    "\n",
    "#Your Code: create and fill values into df_country_top5\n",
    "\n"
   ]
  },
  {
   "cell_type": "markdown",
   "metadata": {
    "colab_type": "text",
    "id": "rQNCS52Aot40"
   },
   "source": [
    "Now we have some understanding about the country, let's see if there is any relationship between country, age and gender.\n",
    "\n",
    "<div class=\"alert alert-block alert-info\">\n",
    "\n",
    "**Code**: \n",
    "You are required to output the mean and median age for each gender for the United States, India, Australia, Pakistan\n",
    "\n",
    "\n",
    "<div class=\"alert alert-block alert-warning\">\n",
    "    \n",
    "**Report**: \n",
    "    **1.3.E** In your report's section '1.3.E', including the results of above coding task.\n",
    "</div>\n",
    "\n",
    "\n",
    "</div>\n",
    "\n",
    "\n"
   ]
  },
  {
   "cell_type": "code",
   "execution_count": null,
   "metadata": {
    "colab": {
     "base_uri": "https://localhost:8080/",
     "height": 325
    },
    "colab_type": "code",
    "id": "C8x3hi3xot45",
    "outputId": "dc0ce279-87ba-4670-d9e1-38726f0f854e"
   },
   "outputs": [],
   "source": [
    "# Your Code\n",
    "\n"
   ]
  },
  {
   "cell_type": "markdown",
   "metadata": {
    "colab_type": "text",
    "id": "gYQNiE5Cot-I"
   },
   "source": [
    "## Part 2 - Data Science Job Advertising Data\n",
    "\n",
    "In this part, you are required to use the text processing skills to find out the insights in data science job adverising Data."
   ]
  },
  {
   "cell_type": "markdown",
   "metadata": {
    "colab_type": "text",
    "id": "LQmiP5-_Nc3b"
   },
   "source": [
    "### 2.1. Load the data and Extract the high frequency words\n",
    "<a id=\"text\"></a>\n",
    "\n",
    "Firstly, you will need to load the [JobPostings.csv](https://github.com/tulip-lab/sit742/raw/master/Assessment/2020/data/JobPostings.csv) data and sub-set out of the job description from it."
   ]
  },
  {
   "cell_type": "code",
   "execution_count": null,
   "metadata": {
    "colab": {
     "base_uri": "https://localhost:8080/",
     "height": 69
    },
    "colab_type": "code",
    "id": "zH8XAQ0xYGSc",
    "outputId": "6369ff7f-52d3-4a2a-a22d-8b284e76d8de"
   },
   "outputs": [],
   "source": [
    "import re\n",
    "import nltk\n",
    "from nltk.tokenize import RegexpTokenizer\n",
    "from nltk.probability import *\n",
    "from itertools import chain\n",
    "#from tqdm import tqdm\n",
    "import codecs\n",
    "from nltk.corpus import stopwords \n",
    "nltk.download('stopwords')"
   ]
  },
  {
   "cell_type": "code",
   "execution_count": null,
   "metadata": {
    "colab": {},
    "colab_type": "code",
    "id": "p_BSc5WkYcf4"
   },
   "outputs": [],
   "source": [
    "df_text = pd.read_csv('JobPostings.csv')"
   ]
  },
  {
   "cell_type": "markdown",
   "metadata": {
    "colab_type": "text",
    "id": "xm1vdjSKJykj"
   },
   "source": [
    "<div class=\"alert alert-block alert-info\">\n",
    "\n",
    "**Code**: \n",
    "You are required to extract the token and append them into the list 'token'.\n",
    "\n",
    "<div class=\"alert alert-block alert-warning\">\n",
    "    \n",
    "**Report**: \n",
    "    **2.1.A** In your report's section '2.1.A', including your code of this task. You can copy and paster your completed code in the following cell\n",
    "</div>\n",
    "\n",
    "\n",
    "</div>\n"
   ]
  },
  {
   "cell_type": "code",
   "execution_count": null,
   "metadata": {
    "colab": {},
    "colab_type": "code",
    "id": "Rz03Rd-GYYMw"
   },
   "outputs": [],
   "source": [
    "lower = []\n",
    "for item in df_text['job_description']:\n",
    "    lower.append(item.lower())           # lowercase description\n",
    "\n",
    "tokens = []\n",
    "\n",
    "# Your code: write your code here to define your tokenize, and add to tokens \n",
    "\n",
    "\n"
   ]
  },
  {
   "cell_type": "markdown",
   "metadata": {
    "colab_type": "text",
    "id": "VD4z8w8xOKDJ"
   },
   "source": [
    "Secondly, \n",
    "\n",
    "<div class=\"alert alert-block alert-info\">\n",
    "\n",
    "**Code**: \n",
    "You are required to find out the words freqency which is more than 6000 in the job descriptions. (Please use stopwords at beginning)\n",
    "\n",
    "\n",
    "<div class=\"alert alert-block alert-warning\">\n",
    "    \n",
    "**Report**: \n",
    "    **2.1.B** In your report's section '2.1.B', list those words with frequency > 6000.\n",
    "</div>\n",
    "\n",
    "\n",
    "</div>\n",
    "\n",
    "\n"
   ]
  },
  {
   "cell_type": "code",
   "execution_count": null,
   "metadata": {
    "colab": {},
    "colab_type": "code",
    "id": "c-Pag_N7Zew-"
   },
   "outputs": [],
   "source": [
    "stop_words = set(stopwords.words('english')) \n",
    "\n",
    "freq6000 = []\n",
    "\n",
    "# Your Code\n",
    "# find top common words with document frequencies > 6000\n",
    "# you may use function FreqDist() and sort()\n"
   ]
  },
  {
   "cell_type": "code",
   "execution_count": null,
   "metadata": {
    "colab": {
     "base_uri": "https://localhost:8080/",
     "height": 364
    },
    "colab_type": "code",
    "id": "S7JzfU6AaSQi",
    "outputId": "5948118d-956a-4ac2-d47d-d9ac37815910"
   },
   "outputs": [],
   "source": [
    "freq6000"
   ]
  },
  {
   "cell_type": "markdown",
   "metadata": {
    "colab_type": "text",
    "id": "EK9-BCbDJyky"
   },
   "source": [
    "Then,\n",
    "\n",
    "<div class=\"alert alert-block alert-info\">\n",
    "\n",
    "**Code**: \n",
    "You are required to sort and display the top 10 high frequency words in 'freq6000'\n",
    "\n",
    "<div class=\"alert alert-block alert-warning\">\n",
    "    \n",
    "**Report**: \n",
    "    **2.1.C** In your report's section '2.1.C', list those top 10 words\n",
    "</div>\n",
    "\n",
    "\n",
    "</div>\n",
    "\n",
    "\n",
    "\n",
    "\n"
   ]
  },
  {
   "cell_type": "code",
   "execution_count": null,
   "metadata": {
    "colab": {
     "base_uri": "https://localhost:8080/",
     "height": 355
    },
    "colab_type": "code",
    "id": "doWvhqRmJykz",
    "outputId": "5411c8b2-23ec-43a6-d41d-20ea9ffcd335"
   },
   "outputs": [],
   "source": [
    "# Your Code to sort and display the top 10 high fequency words in 'freq6000'\n",
    "\n"
   ]
  },
  {
   "cell_type": "markdown",
   "metadata": {},
   "source": [
    "Finally,\n",
    "\n",
    "<div class=\"alert alert-block alert-info\">\n",
    "\n",
    "**Code**: \n",
    "You are required to carry out one more analytics on this data set, and implement it below.\n",
    "\n",
    "<div class=\"alert alert-block alert-warning\">\n",
    "    \n",
    "**Report**: \n",
    "    **2.1.D** In your report's section '2.1.D', describe your self-defined text analysis task, and the discovery from your analysis.\n",
    "</div>\n",
    "\n",
    "\n",
    "</div>\n",
    "\n",
    "\n",
    "\n",
    "\n",
    "\n"
   ]
  },
  {
   "cell_type": "code",
   "execution_count": null,
   "metadata": {},
   "outputs": [],
   "source": [
    "# Your Code below\n",
    "\n"
   ]
  }
 ],
 "metadata": {
  "colab": {
   "collapsed_sections": [],
   "name": "2020SIT742Task1Sol.ipynb",
   "provenance": [],
   "toc_visible": true
  },
  "kernelspec": {
   "display_name": "Python 3",
   "language": "python",
   "name": "python3"
  },
  "language_info": {
   "codemirror_mode": {
    "name": "ipython",
    "version": 3
   },
   "file_extension": ".py",
   "mimetype": "text/x-python",
   "name": "python",
   "nbconvert_exporter": "python",
   "pygments_lexer": "ipython3",
   "version": "3.6.5"
  }
 },
 "nbformat": 4,
 "nbformat_minor": 4
}
