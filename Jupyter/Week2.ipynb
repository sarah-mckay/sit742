{
 "cells": [
  {
   "cell_type": "code",
   "execution_count": 2,
   "metadata": {},
   "outputs": [
    {
     "name": "stdout",
     "output_type": "stream",
     "text": [
      "e^2 is 7.38905609893065 and log(2) is 0.6931471805599453\n"
     ]
    }
   ],
   "source": [
    "#import math module\n",
    "import math\n",
    "\n",
    "#set the variable x to 2, then perform an exponential and logarithmic function on x\n",
    "x = 2\n",
    "y1 = math.exp(x)\n",
    "y2 = math.log(x)\n",
    "\n",
    "#print the outcomes, the variables listed at the end are in the printed in the brackets in order\n",
    "print(\"e^{} is {} and log({}) is {}\".format(x, y1, x, y2))"
   ]
  },
  {
   "cell_type": "code",
   "execution_count": 4,
   "metadata": {},
   "outputs": [
    {
     "name": "stdout",
     "output_type": "stream",
     "text": [
      "e^2 is 7.38905609893065\n"
     ]
    }
   ],
   "source": [
    "#when we explicity import exp from math then we don't nee to use \"math.exp()\" only exp()\n",
    "from math import exp\n",
    "\n",
    "x=2\n",
    "y=exp(x)\n",
    "\n",
    "print(\"e^{} is {}\".format(x,y))"
   ]
  },
  {
   "cell_type": "code",
   "execution_count": 5,
   "metadata": {},
   "outputs": [
    {
     "name": "stdout",
     "output_type": "stream",
     "text": [
      "e^2 is 7.38905609893065 and log(2) is 0.6931471805599453\n"
     ]
    }
   ],
   "source": [
    "from math import *\n",
    "\n",
    "x = 2\n",
    "y1 = exp(x)\n",
    "y2 = log(x)\n",
    "\n",
    "print(\"e^{} is {} and log({}) is {}\".format(x, y1, x, y2))"
   ]
  },
  {
   "cell_type": "code",
   "execution_count": 6,
   "metadata": {},
   "outputs": [
    {
     "name": "stdout",
     "output_type": "stream",
     "text": [
      "the facorial of 15 is 1307674368000\n"
     ]
    }
   ],
   "source": [
    "#excercise 1\n",
    "import math\n",
    "\n",
    "x = 15\n",
    "y = math.factorial(x)\n",
    "\n",
    "print(\"the facorial of {} is {}\".format(x, y))"
   ]
  },
  {
   "cell_type": "code",
   "execution_count": 16,
   "metadata": {},
   "outputs": [
    {
     "name": "stdout",
     "output_type": "stream",
     "text": [
      "1307674368000\n"
     ]
    }
   ],
   "source": [
    "#write a function that takes an integer variable and returns its factorial.\n",
    "def factorial_func(x):\n",
    "    if x==1:\n",
    "        return 1\n",
    "    else:\n",
    "        return math.factorial(x) \n",
    "print(factorial_func(15))\n",
    "    \n",
    "\n"
   ]
  },
  {
   "cell_type": "code",
   "execution_count": 17,
   "metadata": {},
   "outputs": [
    {
     "name": "stdout",
     "output_type": "stream",
     "text": [
      "Whats your name? Sarah\n",
      "x is <class 'str'>\n",
      "Your name is Sarah\n"
     ]
    }
   ],
   "source": [
    "x = input('Whats your name? ')\n",
    "\n",
    "print(\"x is {}\".format(type(x)))\n",
    "print(\"Your name is {}\".format(x))"
   ]
  },
  {
   "cell_type": "code",
   "execution_count": 28,
   "metadata": {},
   "outputs": [
    {
     "name": "stdout",
     "output_type": "stream",
     "text": [
      "Please pick a value between -1 and 1 0.01\n",
      "acos(0.01) = 1.5607961601207294\n"
     ]
    }
   ],
   "source": [
    "#use input() to take a float value between -1 and 1 from the user\n",
    "#use the function acos() from math to find the arc cosine of it\n",
    "#print the value of the variable and its arc cosine\n",
    "\n",
    "x = input(\"Please pick a value between -1 and 1 \")\n",
    "y = math.acos(float(x))\n",
    "print('acos({}) = {}'.format(x,y)) \n",
    "\n",
    "\n",
    "#if type(x) == float:\n",
    "#    print(math.acos(x))\n",
    "#else:\n",
    "#    print(\"that is not a valid number\")\n",
    "\n"
   ]
  },
  {
   "cell_type": "code",
   "execution_count": 30,
   "metadata": {},
   "outputs": [
    {
     "name": "stdout",
     "output_type": "stream",
     "text": [
      "Sample is using the end=','\n",
      "0,1,2,3,4,5,6,7,8,9,\n",
      "Sample is using the end=' '\n",
      "0 1 2 3 4 5 6 7 8 9 \n",
      "Sample is without the end arguments\n",
      "0\n",
      "1\n",
      "2\n",
      "3\n",
      "4\n",
      "5\n",
      "6\n",
      "7\n",
      "8\n",
      "9\n"
     ]
    }
   ],
   "source": [
    "print('Sample is using the end=\\',\\'')\n",
    "for i in range(10):\n",
    "    print(i, end=',')    \n",
    "print('\\nSample is using the end=\\' \\'')   \n",
    "for i in range(10):    \n",
    "    print(i, end=' ')\n",
    "print('\\nSample is without the end arguments') \n",
    "for i in range(10):    \n",
    "    print(i)"
   ]
  },
  {
   "cell_type": "code",
   "execution_count": 31,
   "metadata": {},
   "outputs": [
    {
     "name": "stdout",
     "output_type": "stream",
     "text": [
      "11:21:33\n",
      "hour  : 11\n",
      "minute: 21\n",
      "second: 33\n",
      "microsecond: 0\n",
      "tzinfo: None\n"
     ]
    }
   ],
   "source": [
    "import datetime\n",
    "\n",
    "t = datetime.time(11, 21, 33)\n",
    "print(t)\n",
    "print('hour  :', t.hour)\n",
    "print('minute:', t.minute)\n",
    "print('second:', t.second)\n",
    "print('microsecond:', t.microsecond)\n",
    "print('tzinfo:', t.tzinfo)"
   ]
  },
  {
   "cell_type": "code",
   "execution_count": 33,
   "metadata": {},
   "outputs": [
    {
     "name": "stdout",
     "output_type": "stream",
     "text": [
      "2020-03-15\n",
      "ctime: Sun Mar 15 00:00:00 2020\n",
      "tuple: time.struct_time(tm_year=2020, tm_mon=3, tm_mday=15, tm_hour=0, tm_min=0, tm_sec=0, tm_wday=6, tm_yday=75, tm_isdst=-1)\n",
      "ordinal: 737499\n",
      "Year: 2020\n",
      "Mon : 3\n",
      "Day : 15\n"
     ]
    }
   ],
   "source": [
    "import datetime\n",
    "\n",
    "today = datetime.date.today()\n",
    "print(today)\n",
    "print('ctime:', today.ctime())\n",
    "print('tuple:', today.timetuple())\n",
    "print('ordinal:', today.toordinal())\n",
    "print('Year:', today.year)\n",
    "print('Mon :', today.month)\n",
    "print('Day :', today.day)"
   ]
  },
  {
   "cell_type": "code",
   "execution_count": 34,
   "metadata": {},
   "outputs": [
    {
     "name": "stdout",
     "output_type": "stream",
     "text": [
      "d1: 2013-03-12\n",
      "d2: 2015-03-12\n"
     ]
    }
   ],
   "source": [
    "d1 = datetime.date(2013, 3, 12)\n",
    "print('d1:', d1)\n",
    "\n",
    "d2 = d1.replace(year=2015)\n",
    "print('d2:', d2)"
   ]
  },
  {
   "cell_type": "code",
   "execution_count": 42,
   "metadata": {},
   "outputs": [
    {
     "name": "stdout",
     "output_type": "stream",
     "text": [
      "dob: 1986-08-29\n",
      "I was born on Friday\n",
      "and my birthday this year is on a Saturday\n"
     ]
    }
   ],
   "source": [
    "#Write a piece of code that gives you the day of the week that you were born.\n",
    "#How about this year? Do you know what day of the week is it?\n",
    "\n",
    "dob = datetime.date(1986,8,29)\n",
    "#the weekday function returns an integer between 0 and 6 so we need to set-up a look-up to convert to text\n",
    "day_of_week = {0 : 'Monday', 1 : 'Tuesday', 2 :'Wednesday', 3 :'Thursday', 4 :'Friday', 5 :'Saturday', 6 :'Sunday'}\n",
    "print(\"dob:\", dob)\n",
    "print('I was born on', day_of_week[dob.weekday()])\n",
    "\n",
    "t2 = dob.replace(year=2020)\n",
    "print('and my birthday this year is on a', day_of_week[t2.weekday()])"
   ]
  },
  {
   "cell_type": "code",
   "execution_count": 45,
   "metadata": {},
   "outputs": [
    {
     "name": "stdout",
     "output_type": "stream",
     "text": [
      "dob: 1986-08-29\n",
      "I was born on Friday\n",
      "and my birthday this year is on a Saturday\n"
     ]
    }
   ],
   "source": [
    "dob = datetime.date(1986,8,29)\n",
    "#the weekday function returns an integer between 0 and 6 so we need to set-up a look-up to convert to text\n",
    "day_of_week = {0 : 'Monday', 1 : 'Tuesday', 2 :'Wednesday', 3 :'Thursday', 4 :'Friday', 5 :'Saturday', 6 :'Sunday'}\n",
    "print(\"dob:\", dob)\n",
    "print('I was born on', day_of_week[dob.weekday()])\n",
    "\n",
    "t2 = dob + datetime.timedelta(days=365)*29 + datetime.timedelta(days=366)*7\n",
    "print('and my birthday this year is on a', day_of_week[t2.weekday()])"
   ]
  },
  {
   "cell_type": "code",
   "execution_count": 46,
   "metadata": {},
   "outputs": [
    {
     "name": "stdout",
     "output_type": "stream",
     "text": [
      "ISO    : 2020-03-15\n"
     ]
    }
   ],
   "source": [
    "today = datetime.date.today()\n",
    "print('ISO    :', today)"
   ]
  },
  {
   "cell_type": "code",
   "execution_count": 47,
   "metadata": {},
   "outputs": [
    {
     "name": "stdout",
     "output_type": "stream",
     "text": [
      "strftime: Sun Mar 15 00:00:00 2020\n"
     ]
    }
   ],
   "source": [
    "str_format = \"%a %b %d %H:%M:%S %Y\"\n",
    "s = today.strftime(str_format)\n",
    "print('strftime:', s)"
   ]
  },
  {
   "cell_type": "code",
   "execution_count": 48,
   "metadata": {},
   "outputs": [
    {
     "name": "stdout",
     "output_type": "stream",
     "text": [
      "Sun Mar 15 00:00:00 2020\n",
      "2020-03-15 00:00:00\n",
      "strptime: Sun Mar 15 00:00:00 2020\n"
     ]
    }
   ],
   "source": [
    "print(s)\n",
    "\n",
    "d = datetime.datetime.strptime(s, str_format)\n",
    "print(d)\n",
    "print('strptime:', d.strftime(str_format))\n"
   ]
  },
  {
   "cell_type": "code",
   "execution_count": 51,
   "metadata": {},
   "outputs": [
    {
     "name": "stdout",
     "output_type": "stream",
     "text": [
      "2017-07-03 00:00:00\n"
     ]
    }
   ],
   "source": [
    "s = \"7/03/2017\"\n",
    "str_format = \"%m/%d/%Y\"\n",
    "\n",
    "d = datetime.datetime.strptime(s, str_format)\n",
    "print(d)"
   ]
  },
  {
   "cell_type": "code",
   "execution_count": 54,
   "metadata": {},
   "outputs": [
    {
     "name": "stdout",
     "output_type": "stream",
     "text": [
      "2017-07-03 12:30:00\n"
     ]
    }
   ],
   "source": [
    "#You have a string as \"7/30/2017 - 12:13\". How do you convert it into a datetime object?\n",
    "s = \"7/03/2017 - 12:30\"\n",
    "str_format = \"%m/%d/%Y - %H:%M\"\n",
    "d = datetime.datetime.strptime(s,str_format)\n",
    "print(d)"
   ]
  },
  {
   "cell_type": "code",
   "execution_count": null,
   "metadata": {},
   "outputs": [],
   "source": []
  }
 ],
 "metadata": {
  "kernelspec": {
   "display_name": "Python 3",
   "language": "python",
   "name": "python3"
  },
  "language_info": {
   "codemirror_mode": {
    "name": "ipython",
    "version": 3
   },
   "file_extension": ".py",
   "mimetype": "text/x-python",
   "name": "python",
   "nbconvert_exporter": "python",
   "pygments_lexer": "ipython3",
   "version": "3.6.5"
  }
 },
 "nbformat": 4,
 "nbformat_minor": 2
}
